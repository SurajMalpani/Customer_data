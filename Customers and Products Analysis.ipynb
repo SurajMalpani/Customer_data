{
 "cells": [
  {
   "cell_type": "code",
   "execution_count": 1,
   "metadata": {},
   "outputs": [],
   "source": [
    "import pandas as pd\n",
    "import pandas_profiling\n",
    "import seaborn as sns\n",
    "import numpy as np\n",
    "from mlxtend.frequent_patterns import apriori, association_rules\n",
    "import matplotlib.pyplot as plt"
   ]
  },
  {
   "cell_type": "markdown",
   "metadata": {},
   "source": [
    "### Data loading and pre-processing"
   ]
  },
  {
   "cell_type": "code",
   "execution_count": 2,
   "metadata": {},
   "outputs": [],
   "source": [
    "Data = pd.read_csv('SalesData.csv')"
   ]
  },
  {
   "cell_type": "code",
   "execution_count": 3,
   "metadata": {},
   "outputs": [],
   "source": [
    "Data = Data.drop('Unnamed: 0', axis =1)\n",
    "Data['Profit'] = (Data['SellPrice'] - Data['COGS']) * Data['SellQty'] \n",
    "Data['TransactionDate'] = pd.to_datetime(Data['TransactionDate'])"
   ]
  },
  {
   "cell_type": "code",
   "execution_count": 4,
   "metadata": {},
   "outputs": [],
   "source": [
    "Data['TransNo'] = Data['TransNo'].astype(str)\n",
    "Data['CustomerNo'] = Data['CustomerNo'].astype(str)\n",
    "Data['SubCategory'] = Data['SubCategory'].astype(str)"
   ]
  },
  {
   "cell_type": "code",
   "execution_count": 5,
   "metadata": {},
   "outputs": [],
   "source": [
    "#Dropping transaction lines with less than 0 Selling Price and negative SellQty\n",
    "Data = Data[(Data.SellPrice > 0) & (Data.SellQty >= 0)]"
   ]
  },
  {
   "cell_type": "code",
   "execution_count": 6,
   "metadata": {},
   "outputs": [],
   "source": [
    "#Data['TransMonth'] = Data['TransactionDate'].dt.to_period('M')"
   ]
  },
  {
   "cell_type": "markdown",
   "metadata": {},
   "source": [
    "### Data Overview"
   ]
  },
  {
   "cell_type": "code",
   "execution_count": 7,
   "metadata": {},
   "outputs": [
    {
     "data": {
      "text/plain": [
       "(2156625, 11)"
      ]
     },
     "execution_count": 7,
     "metadata": {},
     "output_type": "execute_result"
    }
   ],
   "source": [
    "Data.shape"
   ]
  },
  {
   "cell_type": "code",
   "execution_count": 8,
   "metadata": {},
   "outputs": [
    {
     "data": {
      "text/html": [
       "<div>\n",
       "<style scoped>\n",
       "    .dataframe tbody tr th:only-of-type {\n",
       "        vertical-align: middle;\n",
       "    }\n",
       "\n",
       "    .dataframe tbody tr th {\n",
       "        vertical-align: top;\n",
       "    }\n",
       "\n",
       "    .dataframe thead th {\n",
       "        text-align: right;\n",
       "    }\n",
       "</style>\n",
       "<table border=\"1\" class=\"dataframe\">\n",
       "  <thead>\n",
       "    <tr style=\"text-align: right;\">\n",
       "      <th></th>\n",
       "      <th>TransNo</th>\n",
       "      <th>TransLine</th>\n",
       "      <th>CustomerNo</th>\n",
       "      <th>Category</th>\n",
       "      <th>SubCategory</th>\n",
       "      <th>TransactionDate</th>\n",
       "      <th>SellPrice</th>\n",
       "      <th>SellQty</th>\n",
       "      <th>COGS</th>\n",
       "      <th>Part</th>\n",
       "      <th>Profit</th>\n",
       "    </tr>\n",
       "  </thead>\n",
       "  <tbody>\n",
       "    <tr>\n",
       "      <td>0</td>\n",
       "      <td>4515542</td>\n",
       "      <td>4</td>\n",
       "      <td>80000</td>\n",
       "      <td>CAT3002</td>\n",
       "      <td>430</td>\n",
       "      <td>2015-01-02</td>\n",
       "      <td>25.01</td>\n",
       "      <td>0.0</td>\n",
       "      <td>19.899</td>\n",
       "      <td>P140PA780</td>\n",
       "      <td>0.000</td>\n",
       "    </tr>\n",
       "    <tr>\n",
       "      <td>1</td>\n",
       "      <td>4516499</td>\n",
       "      <td>3</td>\n",
       "      <td>80000</td>\n",
       "      <td>CAT3002</td>\n",
       "      <td>430</td>\n",
       "      <td>2015-01-05</td>\n",
       "      <td>25.01</td>\n",
       "      <td>1.0</td>\n",
       "      <td>20.295</td>\n",
       "      <td>P140PA780</td>\n",
       "      <td>4.715</td>\n",
       "    </tr>\n",
       "    <tr>\n",
       "      <td>2</td>\n",
       "      <td>4516508</td>\n",
       "      <td>3</td>\n",
       "      <td>80000</td>\n",
       "      <td>CAT3002</td>\n",
       "      <td>430</td>\n",
       "      <td>2015-01-05</td>\n",
       "      <td>25.01</td>\n",
       "      <td>1.0</td>\n",
       "      <td>20.295</td>\n",
       "      <td>P140PA780</td>\n",
       "      <td>4.715</td>\n",
       "    </tr>\n",
       "    <tr>\n",
       "      <td>3</td>\n",
       "      <td>4516509</td>\n",
       "      <td>4</td>\n",
       "      <td>80000</td>\n",
       "      <td>CAT3002</td>\n",
       "      <td>430</td>\n",
       "      <td>2015-01-05</td>\n",
       "      <td>25.01</td>\n",
       "      <td>1.0</td>\n",
       "      <td>20.295</td>\n",
       "      <td>P140PA780</td>\n",
       "      <td>4.715</td>\n",
       "    </tr>\n",
       "    <tr>\n",
       "      <td>4</td>\n",
       "      <td>4517969</td>\n",
       "      <td>10</td>\n",
       "      <td>32965</td>\n",
       "      <td>CAT3002</td>\n",
       "      <td>430</td>\n",
       "      <td>2015-01-06</td>\n",
       "      <td>23.28</td>\n",
       "      <td>2.0</td>\n",
       "      <td>19.899</td>\n",
       "      <td>P140PA780</td>\n",
       "      <td>6.762</td>\n",
       "    </tr>\n",
       "  </tbody>\n",
       "</table>\n",
       "</div>"
      ],
      "text/plain": [
       "   TransNo  TransLine CustomerNo Category SubCategory TransactionDate  \\\n",
       "0  4515542          4      80000  CAT3002         430      2015-01-02   \n",
       "1  4516499          3      80000  CAT3002         430      2015-01-05   \n",
       "2  4516508          3      80000  CAT3002         430      2015-01-05   \n",
       "3  4516509          4      80000  CAT3002         430      2015-01-05   \n",
       "4  4517969         10      32965  CAT3002         430      2015-01-06   \n",
       "\n",
       "   SellPrice  SellQty    COGS       Part  Profit  \n",
       "0      25.01      0.0  19.899  P140PA780   0.000  \n",
       "1      25.01      1.0  20.295  P140PA780   4.715  \n",
       "2      25.01      1.0  20.295  P140PA780   4.715  \n",
       "3      25.01      1.0  20.295  P140PA780   4.715  \n",
       "4      23.28      2.0  19.899  P140PA780   6.762  "
      ]
     },
     "execution_count": 8,
     "metadata": {},
     "output_type": "execute_result"
    }
   ],
   "source": [
    "Data.head()"
   ]
  },
  {
   "cell_type": "code",
   "execution_count": 9,
   "metadata": {},
   "outputs": [
    {
     "data": {
      "text/plain": [
       "TransNo                    object\n",
       "TransLine                   int64\n",
       "CustomerNo                 object\n",
       "Category                   object\n",
       "SubCategory                object\n",
       "TransactionDate    datetime64[ns]\n",
       "SellPrice                 float64\n",
       "SellQty                   float64\n",
       "COGS                      float64\n",
       "Part                       object\n",
       "Profit                    float64\n",
       "dtype: object"
      ]
     },
     "execution_count": 9,
     "metadata": {},
     "output_type": "execute_result"
    }
   ],
   "source": [
    "Data.dtypes"
   ]
  },
  {
   "cell_type": "code",
   "execution_count": 10,
   "metadata": {},
   "outputs": [
    {
     "name": "stdout",
     "output_type": "stream",
     "text": [
      "TransNo : 321754\n",
      "TransLine : 894\n",
      "CustomerNo : 1305\n",
      "Category : 14\n",
      "SubCategory : 295\n",
      "TransactionDate : 890\n",
      "SellPrice : 31340\n",
      "SellQty : 575\n",
      "COGS : 30587\n",
      "Part : 42295\n",
      "Profit : 193552\n"
     ]
    }
   ],
   "source": [
    "#unique values in each column\n",
    "def unique_counts(df):\n",
    "   for i in df.columns:\n",
    "       count = df[i].nunique()\n",
    "       print(i, \":\", count)\n",
    "\n",
    "unique_counts(Data)"
   ]
  },
  {
   "cell_type": "code",
   "execution_count": 11,
   "metadata": {},
   "outputs": [
    {
     "data": {
      "text/html": [
       "<div>\n",
       "<style scoped>\n",
       "    .dataframe tbody tr th:only-of-type {\n",
       "        vertical-align: middle;\n",
       "    }\n",
       "\n",
       "    .dataframe tbody tr th {\n",
       "        vertical-align: top;\n",
       "    }\n",
       "\n",
       "    .dataframe thead th {\n",
       "        text-align: right;\n",
       "    }\n",
       "</style>\n",
       "<table border=\"1\" class=\"dataframe\">\n",
       "  <thead>\n",
       "    <tr style=\"text-align: right;\">\n",
       "      <th></th>\n",
       "      <th>TransLine</th>\n",
       "      <th>SellPrice</th>\n",
       "      <th>SellQty</th>\n",
       "      <th>COGS</th>\n",
       "      <th>Profit</th>\n",
       "    </tr>\n",
       "  </thead>\n",
       "  <tbody>\n",
       "    <tr>\n",
       "      <td>count</td>\n",
       "      <td>2.15662e+06</td>\n",
       "      <td>2.15662e+06</td>\n",
       "      <td>2.15662e+06</td>\n",
       "      <td>2.15662e+06</td>\n",
       "      <td>2.15662e+06</td>\n",
       "    </tr>\n",
       "    <tr>\n",
       "      <td>mean</td>\n",
       "      <td>20.4193</td>\n",
       "      <td>27.4894</td>\n",
       "      <td>13.2433</td>\n",
       "      <td>19.1082</td>\n",
       "      <td>24.5527</td>\n",
       "    </tr>\n",
       "    <tr>\n",
       "      <td>std</td>\n",
       "      <td>30.6311</td>\n",
       "      <td>74.7268</td>\n",
       "      <td>109.626</td>\n",
       "      <td>55.5466</td>\n",
       "      <td>112.807</td>\n",
       "    </tr>\n",
       "    <tr>\n",
       "      <td>min</td>\n",
       "      <td>1</td>\n",
       "      <td>0.01</td>\n",
       "      <td>0</td>\n",
       "      <td>-0.1</td>\n",
       "      <td>-9434</td>\n",
       "    </tr>\n",
       "    <tr>\n",
       "      <td>25%</td>\n",
       "      <td>3</td>\n",
       "      <td>2.87</td>\n",
       "      <td>1</td>\n",
       "      <td>1.591</td>\n",
       "      <td>2.7</td>\n",
       "    </tr>\n",
       "    <tr>\n",
       "      <td>50%</td>\n",
       "      <td>11</td>\n",
       "      <td>7.74</td>\n",
       "      <td>2</td>\n",
       "      <td>4.75</td>\n",
       "      <td>8.592</td>\n",
       "    </tr>\n",
       "    <tr>\n",
       "      <td>75%</td>\n",
       "      <td>25</td>\n",
       "      <td>27.09</td>\n",
       "      <td>8</td>\n",
       "      <td>18.77</td>\n",
       "      <td>23</td>\n",
       "    </tr>\n",
       "    <tr>\n",
       "      <td>max</td>\n",
       "      <td>894</td>\n",
       "      <td>12000</td>\n",
       "      <td>20000</td>\n",
       "      <td>9580.87</td>\n",
       "      <td>27750</td>\n",
       "    </tr>\n",
       "  </tbody>\n",
       "</table>\n",
       "</div>"
      ],
      "text/plain": [
       "         TransLine    SellPrice      SellQty         COGS       Profit\n",
       "count  2.15662e+06  2.15662e+06  2.15662e+06  2.15662e+06  2.15662e+06\n",
       "mean       20.4193      27.4894      13.2433      19.1082      24.5527\n",
       "std        30.6311      74.7268      109.626      55.5466      112.807\n",
       "min              1         0.01            0         -0.1        -9434\n",
       "25%              3         2.87            1        1.591          2.7\n",
       "50%             11         7.74            2         4.75        8.592\n",
       "75%             25        27.09            8        18.77           23\n",
       "max            894        12000        20000      9580.87        27750"
      ]
     },
     "execution_count": 11,
     "metadata": {},
     "output_type": "execute_result"
    }
   ],
   "source": [
    "Data.describe().apply(lambda s: s.apply(lambda x: format(x, 'g')))"
   ]
  },
  {
   "cell_type": "code",
   "execution_count": 12,
   "metadata": {},
   "outputs": [
    {
     "data": {
      "text/plain": [
       "Timedelta('1021 days 00:00:00')"
      ]
     },
     "execution_count": 12,
     "metadata": {},
     "output_type": "execute_result"
    }
   ],
   "source": [
    "Data['TransactionDate'].max() - Data['TransactionDate'].min() "
   ]
  },
  {
   "cell_type": "markdown",
   "metadata": {},
   "source": [
    "## Monthly Transactions based Exploratory Analysis\n",
    "Time series visuals"
   ]
  },
  {
   "cell_type": "code",
   "execution_count": 13,
   "metadata": {
    "scrolled": true
   },
   "outputs": [
    {
     "data": {
      "image/png": "[encoded data removed]",
      "text/plain": [
       "<Figure size 432x288 with 1 Axes>"
      ]
     },
     "metadata": {},
     "output_type": "display_data"
    }
   ],
   "source": [
    "Data.groupby([Data['TransactionDate'].dt.to_period('M')]).size().plot()\n",
    "plt.title('Total Number of Transactions')\n",
    "plt.show()"
   ]
  },
  {
   "cell_type": "code",
   "execution_count": 14,
   "metadata": {},
   "outputs": [
    {
     "data": {
      "image/png": "[encoded data removed]",
      "text/plain": [
       "<Figure size 432x288 with 1 Axes>"
      ]
     },
     "metadata": {},
     "output_type": "display_data"
    }
   ],
   "source": [
    "Data.groupby([Data['TransactionDate'].dt.to_period('M')])['SellQty'].sum().plot()\n",
    "plt.title('Total Quantity of Products Sold')\n",
    "plt.show()"
   ]
  },
  {
   "cell_type": "markdown",
   "metadata": {},
   "source": [
    "The above graph shows we are selling lesser products but the profit is increasing in the last year. That could mean, we are focusing on higher profit products."
   ]
  },
  {
   "cell_type": "code",
   "execution_count": 15,
   "metadata": {
    "scrolled": true
   },
   "outputs": [
    {
     "data": {
      "image/png": "[encoded data removed]",
      "text/plain": [
       "<Figure size 432x288 with 1 Axes>"
      ]
     },
     "metadata": {},
     "output_type": "display_data"
    }
   ],
   "source": [
    "Data.groupby([Data['TransactionDate'].dt.to_period('M')])['Profit'].sum().plot()\n",
    "plt.title('Total Profit')\n",
    "plt.show()"
   ]
  },
  {
   "cell_type": "markdown",
   "metadata": {},
   "source": [
    "There is a drop in the Month of December, which is surprising. As everyone is buying gifts and spending a lot during Christmas.\n",
    "\n",
    "Another important observation is the total number of products sold is decreasing over time, but we have managed to bounce back the Profit after a bad year of 2016.\n",
    "Maybe we are getting rid of the products with low profit."
   ]
  },
  {
   "cell_type": "markdown",
   "metadata": {},
   "source": [
    "## Customer analysis - RFM Segmentation"
   ]
  },
  {
   "cell_type": "code",
   "execution_count": 16,
   "metadata": {},
   "outputs": [
    {
     "data": {
      "text/html": [
       "<div>\n",
       "<style scoped>\n",
       "    .dataframe tbody tr th:only-of-type {\n",
       "        vertical-align: middle;\n",
       "    }\n",
       "\n",
       "    .dataframe tbody tr th {\n",
       "        vertical-align: top;\n",
       "    }\n",
       "\n",
       "    .dataframe thead th {\n",
       "        text-align: right;\n",
       "    }\n",
       "</style>\n",
       "<table border=\"1\" class=\"dataframe\">\n",
       "  <thead>\n",
       "    <tr style=\"text-align: right;\">\n",
       "      <th></th>\n",
       "      <th>TransNo</th>\n",
       "      <th>TransLine</th>\n",
       "      <th>CustomerNo</th>\n",
       "      <th>Category</th>\n",
       "      <th>SubCategory</th>\n",
       "      <th>TransactionDate</th>\n",
       "      <th>SellPrice</th>\n",
       "      <th>SellQty</th>\n",
       "      <th>COGS</th>\n",
       "      <th>Part</th>\n",
       "      <th>Profit</th>\n",
       "    </tr>\n",
       "  </thead>\n",
       "  <tbody>\n",
       "    <tr>\n",
       "      <td>0</td>\n",
       "      <td>4515542</td>\n",
       "      <td>4</td>\n",
       "      <td>80000</td>\n",
       "      <td>CAT3002</td>\n",
       "      <td>430</td>\n",
       "      <td>2015-01-02</td>\n",
       "      <td>25.01</td>\n",
       "      <td>0.0</td>\n",
       "      <td>19.899</td>\n",
       "      <td>P140PA780</td>\n",
       "      <td>0.000</td>\n",
       "    </tr>\n",
       "    <tr>\n",
       "      <td>1</td>\n",
       "      <td>4516499</td>\n",
       "      <td>3</td>\n",
       "      <td>80000</td>\n",
       "      <td>CAT3002</td>\n",
       "      <td>430</td>\n",
       "      <td>2015-01-05</td>\n",
       "      <td>25.01</td>\n",
       "      <td>1.0</td>\n",
       "      <td>20.295</td>\n",
       "      <td>P140PA780</td>\n",
       "      <td>4.715</td>\n",
       "    </tr>\n",
       "    <tr>\n",
       "      <td>2</td>\n",
       "      <td>4516508</td>\n",
       "      <td>3</td>\n",
       "      <td>80000</td>\n",
       "      <td>CAT3002</td>\n",
       "      <td>430</td>\n",
       "      <td>2015-01-05</td>\n",
       "      <td>25.01</td>\n",
       "      <td>1.0</td>\n",
       "      <td>20.295</td>\n",
       "      <td>P140PA780</td>\n",
       "      <td>4.715</td>\n",
       "    </tr>\n",
       "    <tr>\n",
       "      <td>3</td>\n",
       "      <td>4516509</td>\n",
       "      <td>4</td>\n",
       "      <td>80000</td>\n",
       "      <td>CAT3002</td>\n",
       "      <td>430</td>\n",
       "      <td>2015-01-05</td>\n",
       "      <td>25.01</td>\n",
       "      <td>1.0</td>\n",
       "      <td>20.295</td>\n",
       "      <td>P140PA780</td>\n",
       "      <td>4.715</td>\n",
       "    </tr>\n",
       "    <tr>\n",
       "      <td>4</td>\n",
       "      <td>4517969</td>\n",
       "      <td>10</td>\n",
       "      <td>32965</td>\n",
       "      <td>CAT3002</td>\n",
       "      <td>430</td>\n",
       "      <td>2015-01-06</td>\n",
       "      <td>23.28</td>\n",
       "      <td>2.0</td>\n",
       "      <td>19.899</td>\n",
       "      <td>P140PA780</td>\n",
       "      <td>6.762</td>\n",
       "    </tr>\n",
       "  </tbody>\n",
       "</table>\n",
       "</div>"
      ],
      "text/plain": [
       "   TransNo  TransLine CustomerNo Category SubCategory TransactionDate  \\\n",
       "0  4515542          4      80000  CAT3002         430      2015-01-02   \n",
       "1  4516499          3      80000  CAT3002         430      2015-01-05   \n",
       "2  4516508          3      80000  CAT3002         430      2015-01-05   \n",
       "3  4516509          4      80000  CAT3002         430      2015-01-05   \n",
       "4  4517969         10      32965  CAT3002         430      2015-01-06   \n",
       "\n",
       "   SellPrice  SellQty    COGS       Part  Profit  \n",
       "0      25.01      0.0  19.899  P140PA780   0.000  \n",
       "1      25.01      1.0  20.295  P140PA780   4.715  \n",
       "2      25.01      1.0  20.295  P140PA780   4.715  \n",
       "3      25.01      1.0  20.295  P140PA780   4.715  \n",
       "4      23.28      2.0  19.899  P140PA780   6.762  "
      ]
     },
     "execution_count": 16,
     "metadata": {},
     "output_type": "execute_result"
    }
   ],
   "source": [
    "Data.head()"
   ]
  },
  {
   "cell_type": "code",
   "execution_count": 17,
   "metadata": {
    "scrolled": false
   },
   "outputs": [
    {
     "data": {
      "text/html": [
       "<div>\n",
       "<style scoped>\n",
       "    .dataframe tbody tr th:only-of-type {\n",
       "        vertical-align: middle;\n",
       "    }\n",
       "\n",
       "    .dataframe tbody tr th {\n",
       "        vertical-align: top;\n",
       "    }\n",
       "\n",
       "    .dataframe thead th {\n",
       "        text-align: right;\n",
       "    }\n",
       "</style>\n",
       "<table border=\"1\" class=\"dataframe\">\n",
       "  <thead>\n",
       "    <tr style=\"text-align: right;\">\n",
       "      <th></th>\n",
       "      <th>Days_Since_Visit</th>\n",
       "      <th>TotalVisits</th>\n",
       "      <th>TotalProfit</th>\n",
       "    </tr>\n",
       "    <tr>\n",
       "      <th>CustomerNo</th>\n",
       "      <th></th>\n",
       "      <th></th>\n",
       "      <th></th>\n",
       "    </tr>\n",
       "  </thead>\n",
       "  <tbody>\n",
       "    <tr>\n",
       "      <td>10000</td>\n",
       "      <td>110</td>\n",
       "      <td>17</td>\n",
       "      <td>7239.690</td>\n",
       "    </tr>\n",
       "    <tr>\n",
       "      <td>10012</td>\n",
       "      <td>71</td>\n",
       "      <td>9</td>\n",
       "      <td>1288.742</td>\n",
       "    </tr>\n",
       "    <tr>\n",
       "      <td>10028</td>\n",
       "      <td>30</td>\n",
       "      <td>67</td>\n",
       "      <td>14996.707</td>\n",
       "    </tr>\n",
       "    <tr>\n",
       "      <td>10051</td>\n",
       "      <td>13</td>\n",
       "      <td>146</td>\n",
       "      <td>34705.234</td>\n",
       "    </tr>\n",
       "    <tr>\n",
       "      <td>100581</td>\n",
       "      <td>0</td>\n",
       "      <td>222</td>\n",
       "      <td>56479.929</td>\n",
       "    </tr>\n",
       "    <tr>\n",
       "      <td>...</td>\n",
       "      <td>...</td>\n",
       "      <td>...</td>\n",
       "      <td>...</td>\n",
       "    </tr>\n",
       "    <tr>\n",
       "      <td>9250</td>\n",
       "      <td>20</td>\n",
       "      <td>37</td>\n",
       "      <td>2903.570</td>\n",
       "    </tr>\n",
       "    <tr>\n",
       "      <td>93277</td>\n",
       "      <td>2</td>\n",
       "      <td>36</td>\n",
       "      <td>22792.865</td>\n",
       "    </tr>\n",
       "    <tr>\n",
       "      <td>9405</td>\n",
       "      <td>47</td>\n",
       "      <td>13</td>\n",
       "      <td>2256.381</td>\n",
       "    </tr>\n",
       "    <tr>\n",
       "      <td>97101</td>\n",
       "      <td>275</td>\n",
       "      <td>1</td>\n",
       "      <td>33.996</td>\n",
       "    </tr>\n",
       "    <tr>\n",
       "      <td>97580</td>\n",
       "      <td>804</td>\n",
       "      <td>7</td>\n",
       "      <td>1995.347</td>\n",
       "    </tr>\n",
       "  </tbody>\n",
       "</table>\n",
       "<p>1305 rows × 3 columns</p>\n",
       "</div>"
      ],
      "text/plain": [
       "            Days_Since_Visit  TotalVisits  TotalProfit\n",
       "CustomerNo                                            \n",
       "10000                    110           17     7239.690\n",
       "10012                     71            9     1288.742\n",
       "10028                     30           67    14996.707\n",
       "10051                     13          146    34705.234\n",
       "100581                     0          222    56479.929\n",
       "...                      ...          ...          ...\n",
       "9250                      20           37     2903.570\n",
       "93277                      2           36    22792.865\n",
       "9405                      47           13     2256.381\n",
       "97101                    275            1       33.996\n",
       "97580                    804            7     1995.347\n",
       "\n",
       "[1305 rows x 3 columns]"
      ]
     },
     "execution_count": 17,
     "metadata": {},
     "output_type": "execute_result"
    }
   ],
   "source": [
    "RFM_df = pd.DataFrame({\n",
    "    'Days_Since_Visit' : (Data['TransactionDate'].max() - Data.groupby('CustomerNo')['TransactionDate'].max()).dt.days,\n",
    "    'TotalVisits' : Data.groupby(['CustomerNo'])['TransNo'].nunique(),\n",
    "    'TotalProfit' : Data.groupby(['CustomerNo'])['Profit'].sum()\n",
    "    })\n",
    "RFM_df"
   ]
  },
  {
   "cell_type": "code",
   "execution_count": 18,
   "metadata": {},
   "outputs": [],
   "source": [
    "quantiles = RFM_df.quantile(q=[0.25,0.5,0.75]).to_dict()"
   ]
  },
  {
   "cell_type": "code",
   "execution_count": 19,
   "metadata": {},
   "outputs": [
    {
     "data": {
      "text/plain": [
       "{'Days_Since_Visit': {0.25: 5.0, 0.5: 20.0, 0.75: 153.0},\n",
       " 'TotalProfit': {0.25: 1387.388, 0.5: 8236.423, 0.75: 29703.455999999962},\n",
       " 'TotalVisits': {0.25: 9.0, 0.5: 46.0, 0.75: 134.0}}"
      ]
     },
     "execution_count": 19,
     "metadata": {},
     "output_type": "execute_result"
    }
   ],
   "source": [
    "quantiles"
   ]
  },
  {
   "cell_type": "code",
   "execution_count": 20,
   "metadata": {},
   "outputs": [],
   "source": [
    "def RScore(x,p,d):\n",
    "    if x <= d[p][0.25]:\n",
    "        return 1\n",
    "    elif x <= d[p][0.50]:\n",
    "        return 2\n",
    "    elif x <= d[p][0.75]: \n",
    "        return 3\n",
    "    else:\n",
    "        return 4\n",
    "    \n",
    "def FMScore(x,p,d):\n",
    "    if x <= d[p][0.25]:\n",
    "        return 4\n",
    "    elif x <= d[p][0.50]:\n",
    "        return 3\n",
    "    elif x <= d[p][0.75]: \n",
    "        return 2\n",
    "    else:\n",
    "        return 1"
   ]
  },
  {
   "cell_type": "code",
   "execution_count": 21,
   "metadata": {},
   "outputs": [],
   "source": [
    "RFM_df['r_quartile'] = RFM_df['Days_Since_Visit'].apply(RScore, args=('Days_Since_Visit',quantiles,))\n",
    "RFM_df['f_quartile'] = RFM_df['TotalVisits'].apply(FMScore, args=('TotalVisits',quantiles,))\n",
    "RFM_df['m_quartile'] = RFM_df['TotalProfit'].apply(FMScore, args=('TotalProfit',quantiles,))"
   ]
  },
  {
   "cell_type": "code",
   "execution_count": 22,
   "metadata": {},
   "outputs": [],
   "source": [
    "RFM_df['RFMScore'] = RFM_df.r_quartile.map(str) + RFM_df.f_quartile.map(str) + RFM_df.m_quartile.map(str)"
   ]
  },
  {
   "cell_type": "code",
   "execution_count": 23,
   "metadata": {},
   "outputs": [
    {
     "data": {
      "text/html": [
       "<div>\n",
       "<style scoped>\n",
       "    .dataframe tbody tr th:only-of-type {\n",
       "        vertical-align: middle;\n",
       "    }\n",
       "\n",
       "    .dataframe tbody tr th {\n",
       "        vertical-align: top;\n",
       "    }\n",
       "\n",
       "    .dataframe thead th {\n",
       "        text-align: right;\n",
       "    }\n",
       "</style>\n",
       "<table border=\"1\" class=\"dataframe\">\n",
       "  <thead>\n",
       "    <tr style=\"text-align: right;\">\n",
       "      <th></th>\n",
       "      <th>Days_Since_Visit</th>\n",
       "      <th>TotalVisits</th>\n",
       "      <th>TotalProfit</th>\n",
       "      <th>r_quartile</th>\n",
       "      <th>f_quartile</th>\n",
       "      <th>m_quartile</th>\n",
       "      <th>RFMScore</th>\n",
       "    </tr>\n",
       "    <tr>\n",
       "      <th>CustomerNo</th>\n",
       "      <th></th>\n",
       "      <th></th>\n",
       "      <th></th>\n",
       "      <th></th>\n",
       "      <th></th>\n",
       "      <th></th>\n",
       "      <th></th>\n",
       "    </tr>\n",
       "  </thead>\n",
       "  <tbody>\n",
       "    <tr>\n",
       "      <td>10000</td>\n",
       "      <td>110</td>\n",
       "      <td>17</td>\n",
       "      <td>7239.690</td>\n",
       "      <td>3</td>\n",
       "      <td>3</td>\n",
       "      <td>3</td>\n",
       "      <td>333</td>\n",
       "    </tr>\n",
       "    <tr>\n",
       "      <td>10012</td>\n",
       "      <td>71</td>\n",
       "      <td>9</td>\n",
       "      <td>1288.742</td>\n",
       "      <td>3</td>\n",
       "      <td>4</td>\n",
       "      <td>4</td>\n",
       "      <td>344</td>\n",
       "    </tr>\n",
       "    <tr>\n",
       "      <td>10028</td>\n",
       "      <td>30</td>\n",
       "      <td>67</td>\n",
       "      <td>14996.707</td>\n",
       "      <td>3</td>\n",
       "      <td>2</td>\n",
       "      <td>2</td>\n",
       "      <td>322</td>\n",
       "    </tr>\n",
       "    <tr>\n",
       "      <td>10051</td>\n",
       "      <td>13</td>\n",
       "      <td>146</td>\n",
       "      <td>34705.234</td>\n",
       "      <td>2</td>\n",
       "      <td>1</td>\n",
       "      <td>1</td>\n",
       "      <td>211</td>\n",
       "    </tr>\n",
       "    <tr>\n",
       "      <td>100581</td>\n",
       "      <td>0</td>\n",
       "      <td>222</td>\n",
       "      <td>56479.929</td>\n",
       "      <td>1</td>\n",
       "      <td>1</td>\n",
       "      <td>1</td>\n",
       "      <td>111</td>\n",
       "    </tr>\n",
       "  </tbody>\n",
       "</table>\n",
       "</div>"
      ],
      "text/plain": [
       "            Days_Since_Visit  TotalVisits  TotalProfit  r_quartile  \\\n",
       "CustomerNo                                                           \n",
       "10000                    110           17     7239.690           3   \n",
       "10012                     71            9     1288.742           3   \n",
       "10028                     30           67    14996.707           3   \n",
       "10051                     13          146    34705.234           2   \n",
       "100581                     0          222    56479.929           1   \n",
       "\n",
       "            f_quartile  m_quartile RFMScore  \n",
       "CustomerNo                                   \n",
       "10000                3           3      333  \n",
       "10012                4           4      344  \n",
       "10028                2           2      322  \n",
       "10051                1           1      211  \n",
       "100581               1           1      111  "
      ]
     },
     "execution_count": 23,
     "metadata": {},
     "output_type": "execute_result"
    }
   ],
   "source": [
    "RFM_df.head()"
   ]
  },
  {
   "cell_type": "code",
   "execution_count": 24,
   "metadata": {},
   "outputs": [],
   "source": [
    "#RFM_df.reset_index().to_csv('RFM.csv', index=False)"
   ]
  },
  {
   "cell_type": "markdown",
   "metadata": {},
   "source": [
    "** Tableau Viz for Interacting with Customer Segments: **   \n",
    "https://public.tableau.com/profile/suraj.malpani#!/vizhome/CustomerSegmentation_15755893101840/Sheet1\n",
    "\n",
    "Filtered out customers with RFM Score of 111 from the above Viz."
   ]
  },
  {
   "cell_type": "markdown",
   "metadata": {},
   "source": [
    "** Customers who are inactive since a while, i.e. are in r_quartile = 4 are basically churned customers. **"
   ]
  },
  {
   "cell_type": "code",
   "execution_count": 25,
   "metadata": {
    "scrolled": false
   },
   "outputs": [
    {
     "data": {
      "text/html": [
       "<div>\n",
       "<style scoped>\n",
       "    .dataframe tbody tr th:only-of-type {\n",
       "        vertical-align: middle;\n",
       "    }\n",
       "\n",
       "    .dataframe tbody tr th {\n",
       "        vertical-align: top;\n",
       "    }\n",
       "\n",
       "    .dataframe thead th {\n",
       "        text-align: right;\n",
       "    }\n",
       "</style>\n",
       "<table border=\"1\" class=\"dataframe\">\n",
       "  <thead>\n",
       "    <tr style=\"text-align: right;\">\n",
       "      <th></th>\n",
       "      <th>Days_Since_Visit</th>\n",
       "      <th>TotalVisits</th>\n",
       "      <th>TotalProfit</th>\n",
       "      <th>r_quartile</th>\n",
       "      <th>f_quartile</th>\n",
       "      <th>m_quartile</th>\n",
       "      <th>RFMScore</th>\n",
       "    </tr>\n",
       "    <tr>\n",
       "      <th>CustomerNo</th>\n",
       "      <th></th>\n",
       "      <th></th>\n",
       "      <th></th>\n",
       "      <th></th>\n",
       "      <th></th>\n",
       "      <th></th>\n",
       "      <th></th>\n",
       "    </tr>\n",
       "  </thead>\n",
       "  <tbody>\n",
       "    <tr>\n",
       "      <td>10129</td>\n",
       "      <td>874</td>\n",
       "      <td>2</td>\n",
       "      <td>39.971</td>\n",
       "      <td>4</td>\n",
       "      <td>4</td>\n",
       "      <td>4</td>\n",
       "      <td>444</td>\n",
       "    </tr>\n",
       "    <tr>\n",
       "      <td>10131</td>\n",
       "      <td>378</td>\n",
       "      <td>5</td>\n",
       "      <td>635.268</td>\n",
       "      <td>4</td>\n",
       "      <td>4</td>\n",
       "      <td>4</td>\n",
       "      <td>444</td>\n",
       "    </tr>\n",
       "    <tr>\n",
       "      <td>101624</td>\n",
       "      <td>230</td>\n",
       "      <td>2</td>\n",
       "      <td>135.347</td>\n",
       "      <td>4</td>\n",
       "      <td>4</td>\n",
       "      <td>4</td>\n",
       "      <td>444</td>\n",
       "    </tr>\n",
       "    <tr>\n",
       "      <td>10222</td>\n",
       "      <td>168</td>\n",
       "      <td>3</td>\n",
       "      <td>302.880</td>\n",
       "      <td>4</td>\n",
       "      <td>4</td>\n",
       "      <td>4</td>\n",
       "      <td>444</td>\n",
       "    </tr>\n",
       "    <tr>\n",
       "      <td>10259</td>\n",
       "      <td>308</td>\n",
       "      <td>80</td>\n",
       "      <td>2968.081</td>\n",
       "      <td>4</td>\n",
       "      <td>2</td>\n",
       "      <td>3</td>\n",
       "      <td>423</td>\n",
       "    </tr>\n",
       "    <tr>\n",
       "      <td>...</td>\n",
       "      <td>...</td>\n",
       "      <td>...</td>\n",
       "      <td>...</td>\n",
       "      <td>...</td>\n",
       "      <td>...</td>\n",
       "      <td>...</td>\n",
       "      <td>...</td>\n",
       "    </tr>\n",
       "    <tr>\n",
       "      <td>86272</td>\n",
       "      <td>980</td>\n",
       "      <td>1</td>\n",
       "      <td>50.190</td>\n",
       "      <td>4</td>\n",
       "      <td>4</td>\n",
       "      <td>4</td>\n",
       "      <td>444</td>\n",
       "    </tr>\n",
       "    <tr>\n",
       "      <td>90060</td>\n",
       "      <td>1001</td>\n",
       "      <td>1</td>\n",
       "      <td>384.178</td>\n",
       "      <td>4</td>\n",
       "      <td>4</td>\n",
       "      <td>4</td>\n",
       "      <td>444</td>\n",
       "    </tr>\n",
       "    <tr>\n",
       "      <td>90237</td>\n",
       "      <td>184</td>\n",
       "      <td>1</td>\n",
       "      <td>48.900</td>\n",
       "      <td>4</td>\n",
       "      <td>4</td>\n",
       "      <td>4</td>\n",
       "      <td>444</td>\n",
       "    </tr>\n",
       "    <tr>\n",
       "      <td>97101</td>\n",
       "      <td>275</td>\n",
       "      <td>1</td>\n",
       "      <td>33.996</td>\n",
       "      <td>4</td>\n",
       "      <td>4</td>\n",
       "      <td>4</td>\n",
       "      <td>444</td>\n",
       "    </tr>\n",
       "    <tr>\n",
       "      <td>97580</td>\n",
       "      <td>804</td>\n",
       "      <td>7</td>\n",
       "      <td>1995.347</td>\n",
       "      <td>4</td>\n",
       "      <td>4</td>\n",
       "      <td>3</td>\n",
       "      <td>443</td>\n",
       "    </tr>\n",
       "  </tbody>\n",
       "</table>\n",
       "<p>325 rows × 7 columns</p>\n",
       "</div>"
      ],
      "text/plain": [
       "            Days_Since_Visit  TotalVisits  TotalProfit  r_quartile  \\\n",
       "CustomerNo                                                           \n",
       "10129                    874            2       39.971           4   \n",
       "10131                    378            5      635.268           4   \n",
       "101624                   230            2      135.347           4   \n",
       "10222                    168            3      302.880           4   \n",
       "10259                    308           80     2968.081           4   \n",
       "...                      ...          ...          ...         ...   \n",
       "86272                    980            1       50.190           4   \n",
       "90060                   1001            1      384.178           4   \n",
       "90237                    184            1       48.900           4   \n",
       "97101                    275            1       33.996           4   \n",
       "97580                    804            7     1995.347           4   \n",
       "\n",
       "            f_quartile  m_quartile RFMScore  \n",
       "CustomerNo                                   \n",
       "10129                4           4      444  \n",
       "10131                4           4      444  \n",
       "101624               4           4      444  \n",
       "10222                4           4      444  \n",
       "10259                2           3      423  \n",
       "...                ...         ...      ...  \n",
       "86272                4           4      444  \n",
       "90060                4           4      444  \n",
       "90237                4           4      444  \n",
       "97101                4           4      444  \n",
       "97580                4           3      443  \n",
       "\n",
       "[325 rows x 7 columns]"
      ]
     },
     "execution_count": 25,
     "metadata": {},
     "output_type": "execute_result"
    }
   ],
   "source": [
    "RFM_df[RFM_df.r_quartile.isin(['4'])]"
   ]
  },
  {
   "cell_type": "markdown",
   "metadata": {},
   "source": [
    "## Product based analysis\n",
    "Which Products/categories are most profitable?"
   ]
  },
  {
   "cell_type": "code",
   "execution_count": 26,
   "metadata": {
    "scrolled": true
   },
   "outputs": [
    {
     "data": {
      "image/png": "[encoded data removed]",
      "text/plain": [
       "<Figure size 432x288 with 1 Axes>"
      ]
     },
     "metadata": {},
     "output_type": "display_data"
    }
   ],
   "source": [
    "Data.groupby(['Category'])['Profit'].sum().sort_values(ascending=False).plot.bar()\n",
    "plt.title('Total Profit')\n",
    "plt.show()"
   ]
  },
  {
   "cell_type": "code",
   "execution_count": 27,
   "metadata": {
    "scrolled": true
   },
   "outputs": [
    {
     "data": {
      "image/png": "[encoded data removed]",
      "text/plain": [
       "<Figure size 432x288 with 1 Axes>"
      ]
     },
     "metadata": {},
     "output_type": "display_data"
    }
   ],
   "source": [
    "Data.groupby(['Part'])['Profit'].sum().sort_values(ascending=False).head(20).plot.bar()\n",
    "plt.title('Most Profitable Products')\n",
    "plt.show()"
   ]
  },
  {
   "cell_type": "markdown",
   "metadata": {},
   "source": [
    "** Tableau Visuals to interact with Product/category wise profit. **  \n",
    "https://public.tableau.com/views/Profitsovertime_15756023975480/Dashboard1?:display_count=y&publish=yes&:origin=viz_share_link\n",
    "\n",
    "** IBM Watson Dashboard **  \n",
    "https://dataplatform.cloud.ibm.com/dashboards/efab7c1f-ca3c-444c-ac49-0260b37b345a/view/6506b80c1d806ac75cc0c0e407907f577a372708b0bbd00583837b4909637297a93c4792c87d425ad9150160a1b8150b9b \n"
   ]
  },
  {
   "cell_type": "markdown",
   "metadata": {},
   "source": [
    "### Did free Samples made them buy more products over other customers?"
   ]
  },
  {
   "cell_type": "code",
   "execution_count": 28,
   "metadata": {
    "scrolled": false
   },
   "outputs": [],
   "source": [
    "Data['Free_Sample'] = np.where(Data['SellQty'] == 0, 1, 0)"
   ]
  },
  {
   "cell_type": "code",
   "execution_count": 29,
   "metadata": {
    "scrolled": true
   },
   "outputs": [
    {
     "data": {
      "text/plain": [
       "Part\n",
       "P3035PA24352       0\n",
       "P380PA14446        0\n",
       "P380PA14406        0\n",
       "P822PA6330         0\n",
       "P6952PA26611       0\n",
       "                ... \n",
       "P115PA11460     1031\n",
       "P2330PA9482     1057\n",
       "P499PA1521      1236\n",
       "P380PA11984     1305\n",
       "P9PA32318       1401\n",
       "Name: Free_Sample, Length: 42295, dtype: int32"
      ]
     },
     "execution_count": 29,
     "metadata": {},
     "output_type": "execute_result"
    }
   ],
   "source": [
    "Data.groupby(['Part'])['Free_Sample'].sum().sort_values()"
   ]
  },
  {
   "cell_type": "code",
   "execution_count": 30,
   "metadata": {},
   "outputs": [
    {
     "data": {
      "text/plain": [
       "CustomerNo  Part       \n",
       "10000       P113PA13263      0\n",
       "46652       P18PA27078       0\n",
       "            P18PA27065       0\n",
       "            P18PA27063       0\n",
       "            P18PA27061       0\n",
       "                          ... \n",
       "79500       P115PA11460    649\n",
       "            P2330PA9482    748\n",
       "            P499PA1521     814\n",
       "            P380PA11984    814\n",
       "            P9PA32318      846\n",
       "Name: Free_Sample, Length: 390792, dtype: int32"
      ]
     },
     "execution_count": 30,
     "metadata": {},
     "output_type": "execute_result"
    }
   ],
   "source": [
    "Data.groupby(['CustomerNo','Part'])['Free_Sample'].sum().sort_values()"
   ]
  },
  {
   "cell_type": "code",
   "execution_count": 31,
   "metadata": {},
   "outputs": [
    {
     "data": {
      "text/html": [
       "<div>\n",
       "<style scoped>\n",
       "    .dataframe tbody tr th:only-of-type {\n",
       "        vertical-align: middle;\n",
       "    }\n",
       "\n",
       "    .dataframe tbody tr th {\n",
       "        vertical-align: top;\n",
       "    }\n",
       "\n",
       "    .dataframe thead th {\n",
       "        text-align: right;\n",
       "    }\n",
       "</style>\n",
       "<table border=\"1\" class=\"dataframe\">\n",
       "  <thead>\n",
       "    <tr style=\"text-align: right;\">\n",
       "      <th></th>\n",
       "      <th>CustomerNo</th>\n",
       "      <th>Part</th>\n",
       "    </tr>\n",
       "  </thead>\n",
       "  <tbody>\n",
       "    <tr>\n",
       "      <td>0</td>\n",
       "      <td>80000</td>\n",
       "      <td>P140PA780</td>\n",
       "    </tr>\n",
       "    <tr>\n",
       "      <td>5</td>\n",
       "      <td>80001</td>\n",
       "      <td>P140PA780</td>\n",
       "    </tr>\n",
       "    <tr>\n",
       "      <td>8</td>\n",
       "      <td>64372</td>\n",
       "      <td>P140PA780</td>\n",
       "    </tr>\n",
       "    <tr>\n",
       "      <td>84</td>\n",
       "      <td>10421</td>\n",
       "      <td>P140PA780</td>\n",
       "    </tr>\n",
       "    <tr>\n",
       "      <td>285</td>\n",
       "      <td>19225</td>\n",
       "      <td>P140PA780</td>\n",
       "    </tr>\n",
       "    <tr>\n",
       "      <td>...</td>\n",
       "      <td>...</td>\n",
       "      <td>...</td>\n",
       "    </tr>\n",
       "    <tr>\n",
       "      <td>2200729</td>\n",
       "      <td>13012</td>\n",
       "      <td>P555PA40964</td>\n",
       "    </tr>\n",
       "    <tr>\n",
       "      <td>2200779</td>\n",
       "      <td>50891</td>\n",
       "      <td>P555PA40994</td>\n",
       "    </tr>\n",
       "    <tr>\n",
       "      <td>2200908</td>\n",
       "      <td>22057</td>\n",
       "      <td>P555PA41082</td>\n",
       "    </tr>\n",
       "    <tr>\n",
       "      <td>2200991</td>\n",
       "      <td>22057</td>\n",
       "      <td>P555PA41142</td>\n",
       "    </tr>\n",
       "    <tr>\n",
       "      <td>2201089</td>\n",
       "      <td>25570</td>\n",
       "      <td>P555PA41222</td>\n",
       "    </tr>\n",
       "  </tbody>\n",
       "</table>\n",
       "<p>61929 rows × 2 columns</p>\n",
       "</div>"
      ],
      "text/plain": [
       "        CustomerNo         Part\n",
       "0            80000    P140PA780\n",
       "5            80001    P140PA780\n",
       "8            64372    P140PA780\n",
       "84           10421    P140PA780\n",
       "285          19225    P140PA780\n",
       "...            ...          ...\n",
       "2200729      13012  P555PA40964\n",
       "2200779      50891  P555PA40994\n",
       "2200908      22057  P555PA41082\n",
       "2200991      22057  P555PA41142\n",
       "2201089      25570  P555PA41222\n",
       "\n",
       "[61929 rows x 2 columns]"
      ]
     },
     "execution_count": 31,
     "metadata": {},
     "output_type": "execute_result"
    }
   ],
   "source": [
    "free_df = Data[Data['Free_Sample'] == 1][['CustomerNo','Part']].drop_duplicates()\n",
    "free_df"
   ]
  },
  {
   "cell_type": "code",
   "execution_count": 32,
   "metadata": {},
   "outputs": [],
   "source": [
    "from scipy.stats import ttest_ind\n",
    "from scipy.stats import levene"
   ]
  },
  {
   "cell_type": "code",
   "execution_count": 33,
   "metadata": {},
   "outputs": [
    {
     "data": {
      "text/plain": [
       "LeveneResult(statistic=22.055647996796715, pvalue=2.6487546868526574e-06)"
      ]
     },
     "execution_count": 33,
     "metadata": {},
     "output_type": "execute_result"
    }
   ],
   "source": [
    "levene(Data[((Data['CustomerNo'].isin(free_df['CustomerNo']))&(Data['Part'].isin(free_df['Part'])))]['SellQty'],\n",
    "          Data[~((Data['CustomerNo'].isin(free_df['CustomerNo']))&(Data['Part'].isin(free_df['Part'])))]['SellQty'])"
   ]
  },
  {
   "cell_type": "markdown",
   "metadata": {},
   "source": [
    "No equal variance thus Welch's t-test (independent samples)."
   ]
  },
  {
   "cell_type": "code",
   "execution_count": 34,
   "metadata": {},
   "outputs": [
    {
     "data": {
      "text/plain": [
       "Ttest_indResult(statistic=-4.144954483856496, pvalue=3.4008023782384946e-05)"
      ]
     },
     "execution_count": 34,
     "metadata": {},
     "output_type": "execute_result"
    }
   ],
   "source": [
    "ttest_ind(Data[((Data['CustomerNo'].isin(free_df['CustomerNo']))&(Data['Part'].isin(free_df['Part'])))]['SellQty'],\n",
    "          Data[~((Data['CustomerNo'].isin(free_df['CustomerNo']))&(Data['Part'].isin(free_df['Part'])))]['SellQty'],\n",
    "          equal_var = False)"
   ]
  },
  {
   "cell_type": "code",
   "execution_count": 35,
   "metadata": {},
   "outputs": [
    {
     "data": {
      "text/plain": [
       "13.139675486323691"
      ]
     },
     "execution_count": 35,
     "metadata": {},
     "output_type": "execute_result"
    }
   ],
   "source": [
    "Data[((Data['CustomerNo'].isin(free_df['CustomerNo']))&(Data['Part'].isin(free_df['Part'])))]['SellQty'].mean()"
   ]
  },
  {
   "cell_type": "code",
   "execution_count": 36,
   "metadata": {},
   "outputs": [
    {
     "data": {
      "text/plain": [
       "14.842429034101734"
      ]
     },
     "execution_count": 36,
     "metadata": {},
     "output_type": "execute_result"
    }
   ],
   "source": [
    "Data[~((Data['CustomerNo'].isin(free_df['CustomerNo']))&(Data['Part'].isin(free_df['Part'])))]['SellQty'].mean()"
   ]
  },
  {
   "cell_type": "markdown",
   "metadata": {},
   "source": [
    "** This means that providing free samples doesn't necessarily make customers buy more products.  \n",
    "Else, the assumption that SellQty = 0 means free sample is incorrect. **"
   ]
  },
  {
   "cell_type": "code",
   "execution_count": 37,
   "metadata": {},
   "outputs": [],
   "source": [
    "Data = Data.drop('Free_Sample', axis = 1)"
   ]
  },
  {
   "cell_type": "markdown",
   "metadata": {},
   "source": [
    "## Recommendations based on Apriori\n",
    "Which Category/Subcategories should be kept next to each other in the aisles."
   ]
  },
  {
   "cell_type": "markdown",
   "metadata": {},
   "source": [
    "**Analyzing by 'Part' failed. So trying with SubCategory! **"
   ]
  },
  {
   "cell_type": "code",
   "execution_count": 38,
   "metadata": {
    "scrolled": false
   },
   "outputs": [
    {
     "data": {
      "text/html": [
       "<div>\n",
       "<style scoped>\n",
       "    .dataframe tbody tr th:only-of-type {\n",
       "        vertical-align: middle;\n",
       "    }\n",
       "\n",
       "    .dataframe tbody tr th {\n",
       "        vertical-align: top;\n",
       "    }\n",
       "\n",
       "    .dataframe thead th {\n",
       "        text-align: right;\n",
       "    }\n",
       "</style>\n",
       "<table border=\"1\" class=\"dataframe\">\n",
       "  <thead>\n",
       "    <tr style=\"text-align: right;\">\n",
       "      <th>SubCategory</th>\n",
       "      <th>430</th>\n",
       "      <th>431</th>\n",
       "      <th>432</th>\n",
       "      <th>433</th>\n",
       "      <th>434</th>\n",
       "      <th>435</th>\n",
       "      <th>436</th>\n",
       "      <th>437</th>\n",
       "      <th>438</th>\n",
       "      <th>439</th>\n",
       "      <th>...</th>\n",
       "      <th>715</th>\n",
       "      <th>716</th>\n",
       "      <th>717</th>\n",
       "      <th>718</th>\n",
       "      <th>719</th>\n",
       "      <th>720</th>\n",
       "      <th>721</th>\n",
       "      <th>722</th>\n",
       "      <th>723</th>\n",
       "      <th>724</th>\n",
       "    </tr>\n",
       "    <tr>\n",
       "      <th>TransNo</th>\n",
       "      <th></th>\n",
       "      <th></th>\n",
       "      <th></th>\n",
       "      <th></th>\n",
       "      <th></th>\n",
       "      <th></th>\n",
       "      <th></th>\n",
       "      <th></th>\n",
       "      <th></th>\n",
       "      <th></th>\n",
       "      <th></th>\n",
       "      <th></th>\n",
       "      <th></th>\n",
       "      <th></th>\n",
       "      <th></th>\n",
       "      <th></th>\n",
       "      <th></th>\n",
       "      <th></th>\n",
       "      <th></th>\n",
       "      <th></th>\n",
       "      <th></th>\n",
       "    </tr>\n",
       "  </thead>\n",
       "  <tbody>\n",
       "    <tr>\n",
       "      <td>30</td>\n",
       "      <td>19.0</td>\n",
       "      <td>0.0</td>\n",
       "      <td>0.0</td>\n",
       "      <td>0.0</td>\n",
       "      <td>0.0</td>\n",
       "      <td>0.0</td>\n",
       "      <td>0.0</td>\n",
       "      <td>0.0</td>\n",
       "      <td>0.0</td>\n",
       "      <td>0.0</td>\n",
       "      <td>...</td>\n",
       "      <td>0.0</td>\n",
       "      <td>0.0</td>\n",
       "      <td>0.0</td>\n",
       "      <td>0.0</td>\n",
       "      <td>0.0</td>\n",
       "      <td>0.0</td>\n",
       "      <td>0.0</td>\n",
       "      <td>0.0</td>\n",
       "      <td>0.0</td>\n",
       "      <td>0.0</td>\n",
       "    </tr>\n",
       "    <tr>\n",
       "      <td>4515332</td>\n",
       "      <td>0.0</td>\n",
       "      <td>1.0</td>\n",
       "      <td>50.0</td>\n",
       "      <td>1.0</td>\n",
       "      <td>3.0</td>\n",
       "      <td>0.0</td>\n",
       "      <td>18.0</td>\n",
       "      <td>0.0</td>\n",
       "      <td>0.0</td>\n",
       "      <td>0.0</td>\n",
       "      <td>...</td>\n",
       "      <td>0.0</td>\n",
       "      <td>0.0</td>\n",
       "      <td>0.0</td>\n",
       "      <td>0.0</td>\n",
       "      <td>0.0</td>\n",
       "      <td>0.0</td>\n",
       "      <td>0.0</td>\n",
       "      <td>0.0</td>\n",
       "      <td>0.0</td>\n",
       "      <td>0.0</td>\n",
       "    </tr>\n",
       "    <tr>\n",
       "      <td>4515333</td>\n",
       "      <td>1.0</td>\n",
       "      <td>0.0</td>\n",
       "      <td>0.0</td>\n",
       "      <td>0.0</td>\n",
       "      <td>0.0</td>\n",
       "      <td>0.0</td>\n",
       "      <td>0.0</td>\n",
       "      <td>0.0</td>\n",
       "      <td>0.0</td>\n",
       "      <td>0.0</td>\n",
       "      <td>...</td>\n",
       "      <td>0.0</td>\n",
       "      <td>0.0</td>\n",
       "      <td>0.0</td>\n",
       "      <td>0.0</td>\n",
       "      <td>0.0</td>\n",
       "      <td>0.0</td>\n",
       "      <td>0.0</td>\n",
       "      <td>0.0</td>\n",
       "      <td>0.0</td>\n",
       "      <td>0.0</td>\n",
       "    </tr>\n",
       "    <tr>\n",
       "      <td>4515337</td>\n",
       "      <td>5.0</td>\n",
       "      <td>0.0</td>\n",
       "      <td>0.0</td>\n",
       "      <td>0.0</td>\n",
       "      <td>0.0</td>\n",
       "      <td>0.0</td>\n",
       "      <td>5.0</td>\n",
       "      <td>0.0</td>\n",
       "      <td>0.0</td>\n",
       "      <td>0.0</td>\n",
       "      <td>...</td>\n",
       "      <td>0.0</td>\n",
       "      <td>0.0</td>\n",
       "      <td>0.0</td>\n",
       "      <td>0.0</td>\n",
       "      <td>0.0</td>\n",
       "      <td>0.0</td>\n",
       "      <td>0.0</td>\n",
       "      <td>0.0</td>\n",
       "      <td>0.0</td>\n",
       "      <td>0.0</td>\n",
       "    </tr>\n",
       "    <tr>\n",
       "      <td>4515343</td>\n",
       "      <td>0.0</td>\n",
       "      <td>0.0</td>\n",
       "      <td>0.0</td>\n",
       "      <td>6.0</td>\n",
       "      <td>0.0</td>\n",
       "      <td>0.0</td>\n",
       "      <td>0.0</td>\n",
       "      <td>0.0</td>\n",
       "      <td>0.0</td>\n",
       "      <td>0.0</td>\n",
       "      <td>...</td>\n",
       "      <td>0.0</td>\n",
       "      <td>0.0</td>\n",
       "      <td>0.0</td>\n",
       "      <td>0.0</td>\n",
       "      <td>0.0</td>\n",
       "      <td>0.0</td>\n",
       "      <td>0.0</td>\n",
       "      <td>0.0</td>\n",
       "      <td>0.0</td>\n",
       "      <td>0.0</td>\n",
       "    </tr>\n",
       "    <tr>\n",
       "      <td>...</td>\n",
       "      <td>...</td>\n",
       "      <td>...</td>\n",
       "      <td>...</td>\n",
       "      <td>...</td>\n",
       "      <td>...</td>\n",
       "      <td>...</td>\n",
       "      <td>...</td>\n",
       "      <td>...</td>\n",
       "      <td>...</td>\n",
       "      <td>...</td>\n",
       "      <td>...</td>\n",
       "      <td>...</td>\n",
       "      <td>...</td>\n",
       "      <td>...</td>\n",
       "      <td>...</td>\n",
       "      <td>...</td>\n",
       "      <td>...</td>\n",
       "      <td>...</td>\n",
       "      <td>...</td>\n",
       "      <td>...</td>\n",
       "      <td>...</td>\n",
       "    </tr>\n",
       "    <tr>\n",
       "      <td>80000804</td>\n",
       "      <td>0.0</td>\n",
       "      <td>0.0</td>\n",
       "      <td>0.0</td>\n",
       "      <td>0.0</td>\n",
       "      <td>50.0</td>\n",
       "      <td>0.0</td>\n",
       "      <td>0.0</td>\n",
       "      <td>10.0</td>\n",
       "      <td>0.0</td>\n",
       "      <td>0.0</td>\n",
       "      <td>...</td>\n",
       "      <td>0.0</td>\n",
       "      <td>0.0</td>\n",
       "      <td>0.0</td>\n",
       "      <td>0.0</td>\n",
       "      <td>0.0</td>\n",
       "      <td>0.0</td>\n",
       "      <td>0.0</td>\n",
       "      <td>0.0</td>\n",
       "      <td>0.0</td>\n",
       "      <td>0.0</td>\n",
       "    </tr>\n",
       "    <tr>\n",
       "      <td>80000805</td>\n",
       "      <td>38.0</td>\n",
       "      <td>0.0</td>\n",
       "      <td>0.0</td>\n",
       "      <td>0.0</td>\n",
       "      <td>0.0</td>\n",
       "      <td>0.0</td>\n",
       "      <td>4.0</td>\n",
       "      <td>0.0</td>\n",
       "      <td>0.0</td>\n",
       "      <td>0.0</td>\n",
       "      <td>...</td>\n",
       "      <td>0.0</td>\n",
       "      <td>0.0</td>\n",
       "      <td>0.0</td>\n",
       "      <td>0.0</td>\n",
       "      <td>0.0</td>\n",
       "      <td>0.0</td>\n",
       "      <td>0.0</td>\n",
       "      <td>0.0</td>\n",
       "      <td>0.0</td>\n",
       "      <td>0.0</td>\n",
       "    </tr>\n",
       "    <tr>\n",
       "      <td>80000859</td>\n",
       "      <td>0.0</td>\n",
       "      <td>0.0</td>\n",
       "      <td>0.0</td>\n",
       "      <td>0.0</td>\n",
       "      <td>0.0</td>\n",
       "      <td>0.0</td>\n",
       "      <td>0.0</td>\n",
       "      <td>0.0</td>\n",
       "      <td>0.0</td>\n",
       "      <td>0.0</td>\n",
       "      <td>...</td>\n",
       "      <td>0.0</td>\n",
       "      <td>0.0</td>\n",
       "      <td>0.0</td>\n",
       "      <td>0.0</td>\n",
       "      <td>0.0</td>\n",
       "      <td>0.0</td>\n",
       "      <td>0.0</td>\n",
       "      <td>0.0</td>\n",
       "      <td>0.0</td>\n",
       "      <td>0.0</td>\n",
       "    </tr>\n",
       "    <tr>\n",
       "      <td>80000874</td>\n",
       "      <td>0.0</td>\n",
       "      <td>0.0</td>\n",
       "      <td>0.0</td>\n",
       "      <td>0.0</td>\n",
       "      <td>0.0</td>\n",
       "      <td>0.0</td>\n",
       "      <td>0.0</td>\n",
       "      <td>0.0</td>\n",
       "      <td>0.0</td>\n",
       "      <td>0.0</td>\n",
       "      <td>...</td>\n",
       "      <td>0.0</td>\n",
       "      <td>0.0</td>\n",
       "      <td>0.0</td>\n",
       "      <td>0.0</td>\n",
       "      <td>0.0</td>\n",
       "      <td>0.0</td>\n",
       "      <td>0.0</td>\n",
       "      <td>0.0</td>\n",
       "      <td>0.0</td>\n",
       "      <td>0.0</td>\n",
       "    </tr>\n",
       "    <tr>\n",
       "      <td>80000896</td>\n",
       "      <td>0.0</td>\n",
       "      <td>0.0</td>\n",
       "      <td>0.0</td>\n",
       "      <td>0.0</td>\n",
       "      <td>0.0</td>\n",
       "      <td>0.0</td>\n",
       "      <td>0.0</td>\n",
       "      <td>0.0</td>\n",
       "      <td>0.0</td>\n",
       "      <td>0.0</td>\n",
       "      <td>...</td>\n",
       "      <td>0.0</td>\n",
       "      <td>0.0</td>\n",
       "      <td>0.0</td>\n",
       "      <td>0.0</td>\n",
       "      <td>0.0</td>\n",
       "      <td>0.0</td>\n",
       "      <td>0.0</td>\n",
       "      <td>0.0</td>\n",
       "      <td>0.0</td>\n",
       "      <td>0.0</td>\n",
       "    </tr>\n",
       "  </tbody>\n",
       "</table>\n",
       "<p>321754 rows × 295 columns</p>\n",
       "</div>"
      ],
      "text/plain": [
       "SubCategory   430  431   432  433   434  435   436   437  438  439  ...  715  \\\n",
       "TransNo                                                             ...        \n",
       "30           19.0  0.0   0.0  0.0   0.0  0.0   0.0   0.0  0.0  0.0  ...  0.0   \n",
       "4515332       0.0  1.0  50.0  1.0   3.0  0.0  18.0   0.0  0.0  0.0  ...  0.0   \n",
       "4515333       1.0  0.0   0.0  0.0   0.0  0.0   0.0   0.0  0.0  0.0  ...  0.0   \n",
       "4515337       5.0  0.0   0.0  0.0   0.0  0.0   5.0   0.0  0.0  0.0  ...  0.0   \n",
       "4515343       0.0  0.0   0.0  6.0   0.0  0.0   0.0   0.0  0.0  0.0  ...  0.0   \n",
       "...           ...  ...   ...  ...   ...  ...   ...   ...  ...  ...  ...  ...   \n",
       "80000804      0.0  0.0   0.0  0.0  50.0  0.0   0.0  10.0  0.0  0.0  ...  0.0   \n",
       "80000805     38.0  0.0   0.0  0.0   0.0  0.0   4.0   0.0  0.0  0.0  ...  0.0   \n",
       "80000859      0.0  0.0   0.0  0.0   0.0  0.0   0.0   0.0  0.0  0.0  ...  0.0   \n",
       "80000874      0.0  0.0   0.0  0.0   0.0  0.0   0.0   0.0  0.0  0.0  ...  0.0   \n",
       "80000896      0.0  0.0   0.0  0.0   0.0  0.0   0.0   0.0  0.0  0.0  ...  0.0   \n",
       "\n",
       "SubCategory  716  717  718  719  720  721  722  723  724  \n",
       "TransNo                                                   \n",
       "30           0.0  0.0  0.0  0.0  0.0  0.0  0.0  0.0  0.0  \n",
       "4515332      0.0  0.0  0.0  0.0  0.0  0.0  0.0  0.0  0.0  \n",
       "4515333      0.0  0.0  0.0  0.0  0.0  0.0  0.0  0.0  0.0  \n",
       "4515337      0.0  0.0  0.0  0.0  0.0  0.0  0.0  0.0  0.0  \n",
       "4515343      0.0  0.0  0.0  0.0  0.0  0.0  0.0  0.0  0.0  \n",
       "...          ...  ...  ...  ...  ...  ...  ...  ...  ...  \n",
       "80000804     0.0  0.0  0.0  0.0  0.0  0.0  0.0  0.0  0.0  \n",
       "80000805     0.0  0.0  0.0  0.0  0.0  0.0  0.0  0.0  0.0  \n",
       "80000859     0.0  0.0  0.0  0.0  0.0  0.0  0.0  0.0  0.0  \n",
       "80000874     0.0  0.0  0.0  0.0  0.0  0.0  0.0  0.0  0.0  \n",
       "80000896     0.0  0.0  0.0  0.0  0.0  0.0  0.0  0.0  0.0  \n",
       "\n",
       "[321754 rows x 295 columns]"
      ]
     },
     "execution_count": 38,
     "metadata": {},
     "output_type": "execute_result"
    }
   ],
   "source": [
    "temp_df = Data.groupby(['TransNo', 'SubCategory'])['SellQty'].sum().unstack().reset_index().fillna(0).set_index('TransNo')\n",
    "temp_df"
   ]
  },
  {
   "cell_type": "code",
   "execution_count": 39,
   "metadata": {},
   "outputs": [],
   "source": [
    "#Function for hot-encoding\n",
    "def hot_encode(x): \n",
    "    if(x<= 0): \n",
    "        return 0\n",
    "    if(x>= 1): \n",
    "        return 1"
   ]
  },
  {
   "cell_type": "code",
   "execution_count": 40,
   "metadata": {},
   "outputs": [],
   "source": [
    "Apr_df = temp_df.applymap(hot_encode)\n",
    "del temp_df"
   ]
  },
  {
   "cell_type": "code",
   "execution_count": 41,
   "metadata": {},
   "outputs": [],
   "source": [
    "Apr_df = Apr_df.fillna(0)"
   ]
  },
  {
   "cell_type": "code",
   "execution_count": 42,
   "metadata": {},
   "outputs": [],
   "source": [
    "# Building the model \n",
    "frq_items = apriori(Apr_df, min_support = 0.05, use_colnames = True) \n",
    "# Collecting the inferred rules in a dataframe \n",
    "rules = association_rules(frq_items, metric =\"lift\", min_threshold = 1) \n",
    "rules = rules.sort_values(['confidence', 'lift'], ascending =[False, False]) "
   ]
  },
  {
   "cell_type": "code",
   "execution_count": 60,
   "metadata": {
    "scrolled": false
   },
   "outputs": [
    {
     "data": {
      "text/html": [
       "<div>\n",
       "<style scoped>\n",
       "    .dataframe tbody tr th:only-of-type {\n",
       "        vertical-align: middle;\n",
       "    }\n",
       "\n",
       "    .dataframe tbody tr th {\n",
       "        vertical-align: top;\n",
       "    }\n",
       "\n",
       "    .dataframe thead th {\n",
       "        text-align: right;\n",
       "    }\n",
       "</style>\n",
       "<table border=\"1\" class=\"dataframe\">\n",
       "  <thead>\n",
       "    <tr style=\"text-align: right;\">\n",
       "      <th></th>\n",
       "      <th>antecedents</th>\n",
       "      <th>consequents</th>\n",
       "      <th>support</th>\n",
       "      <th>confidence</th>\n",
       "      <th>lift</th>\n",
       "    </tr>\n",
       "  </thead>\n",
       "  <tbody>\n",
       "    <tr>\n",
       "      <td>13</td>\n",
       "      <td>(437)</td>\n",
       "      <td>(461, 433)</td>\n",
       "      <td>0.051235</td>\n",
       "      <td>0.516739</td>\n",
       "      <td>6.021831</td>\n",
       "    </tr>\n",
       "    <tr>\n",
       "      <td>12</td>\n",
       "      <td>(461, 433)</td>\n",
       "      <td>(437)</td>\n",
       "      <td>0.051235</td>\n",
       "      <td>0.597066</td>\n",
       "      <td>6.021831</td>\n",
       "    </tr>\n",
       "    <tr>\n",
       "      <td>11</td>\n",
       "      <td>(437, 433)</td>\n",
       "      <td>(461)</td>\n",
       "      <td>0.051235</td>\n",
       "      <td>0.756887</td>\n",
       "      <td>5.392278</td>\n",
       "    </tr>\n",
       "    <tr>\n",
       "      <td>14</td>\n",
       "      <td>(461)</td>\n",
       "      <td>(437, 433)</td>\n",
       "      <td>0.051235</td>\n",
       "      <td>0.365011</td>\n",
       "      <td>5.392278</td>\n",
       "    </tr>\n",
       "    <tr>\n",
       "      <td>10</td>\n",
       "      <td>(461, 437)</td>\n",
       "      <td>(433)</td>\n",
       "      <td>0.051235</td>\n",
       "      <td>0.903238</td>\n",
       "      <td>4.997945</td>\n",
       "    </tr>\n",
       "    <tr>\n",
       "      <td>15</td>\n",
       "      <td>(433)</td>\n",
       "      <td>(461, 437)</td>\n",
       "      <td>0.051235</td>\n",
       "      <td>0.283501</td>\n",
       "      <td>4.997945</td>\n",
       "    </tr>\n",
       "    <tr>\n",
       "      <td>9</td>\n",
       "      <td>(437)</td>\n",
       "      <td>(461)</td>\n",
       "      <td>0.056723</td>\n",
       "      <td>0.572096</td>\n",
       "      <td>4.075772</td>\n",
       "    </tr>\n",
       "    <tr>\n",
       "      <td>8</td>\n",
       "      <td>(461)</td>\n",
       "      <td>(437)</td>\n",
       "      <td>0.056723</td>\n",
       "      <td>0.404114</td>\n",
       "      <td>4.075772</td>\n",
       "    </tr>\n",
       "    <tr>\n",
       "      <td>2</td>\n",
       "      <td>(433)</td>\n",
       "      <td>(455)</td>\n",
       "      <td>0.057013</td>\n",
       "      <td>0.315471</td>\n",
       "      <td>4.020916</td>\n",
       "    </tr>\n",
       "    <tr>\n",
       "      <td>3</td>\n",
       "      <td>(455)</td>\n",
       "      <td>(433)</td>\n",
       "      <td>0.057013</td>\n",
       "      <td>0.726668</td>\n",
       "      <td>4.020916</td>\n",
       "    </tr>\n",
       "    <tr>\n",
       "      <td>0</td>\n",
       "      <td>(437)</td>\n",
       "      <td>(433)</td>\n",
       "      <td>0.067691</td>\n",
       "      <td>0.682716</td>\n",
       "      <td>3.777715</td>\n",
       "    </tr>\n",
       "    <tr>\n",
       "      <td>1</td>\n",
       "      <td>(433)</td>\n",
       "      <td>(437)</td>\n",
       "      <td>0.067691</td>\n",
       "      <td>0.374561</td>\n",
       "      <td>3.777715</td>\n",
       "    </tr>\n",
       "    <tr>\n",
       "      <td>4</td>\n",
       "      <td>(461)</td>\n",
       "      <td>(433)</td>\n",
       "      <td>0.085811</td>\n",
       "      <td>0.611341</td>\n",
       "      <td>3.382773</td>\n",
       "    </tr>\n",
       "    <tr>\n",
       "      <td>5</td>\n",
       "      <td>(433)</td>\n",
       "      <td>(461)</td>\n",
       "      <td>0.085811</td>\n",
       "      <td>0.474823</td>\n",
       "      <td>3.382773</td>\n",
       "    </tr>\n",
       "    <tr>\n",
       "      <td>7</td>\n",
       "      <td>(433)</td>\n",
       "      <td>(467)</td>\n",
       "      <td>0.057957</td>\n",
       "      <td>0.320699</td>\n",
       "      <td>2.798420</td>\n",
       "    </tr>\n",
       "    <tr>\n",
       "      <td>6</td>\n",
       "      <td>(467)</td>\n",
       "      <td>(433)</td>\n",
       "      <td>0.057957</td>\n",
       "      <td>0.505736</td>\n",
       "      <td>2.798420</td>\n",
       "    </tr>\n",
       "  </tbody>\n",
       "</table>\n",
       "</div>"
      ],
      "text/plain": [
       "   antecedents consequents   support  confidence      lift\n",
       "13       (437)  (461, 433)  0.051235    0.516739  6.021831\n",
       "12  (461, 433)       (437)  0.051235    0.597066  6.021831\n",
       "11  (437, 433)       (461)  0.051235    0.756887  5.392278\n",
       "14       (461)  (437, 433)  0.051235    0.365011  5.392278\n",
       "10  (461, 437)       (433)  0.051235    0.903238  4.997945\n",
       "15       (433)  (461, 437)  0.051235    0.283501  4.997945\n",
       "9        (437)       (461)  0.056723    0.572096  4.075772\n",
       "8        (461)       (437)  0.056723    0.404114  4.075772\n",
       "2        (433)       (455)  0.057013    0.315471  4.020916\n",
       "3        (455)       (433)  0.057013    0.726668  4.020916\n",
       "0        (437)       (433)  0.067691    0.682716  3.777715\n",
       "1        (433)       (437)  0.067691    0.374561  3.777715\n",
       "4        (461)       (433)  0.085811    0.611341  3.382773\n",
       "5        (433)       (461)  0.085811    0.474823  3.382773\n",
       "7        (433)       (467)  0.057957    0.320699  2.798420\n",
       "6        (467)       (433)  0.057957    0.505736  2.798420"
      ]
     },
     "execution_count": 60,
     "metadata": {},
     "output_type": "execute_result"
    }
   ],
   "source": [
    "rules[['antecedents', 'consequents', 'support', 'confidence', 'lift']].sort_values('lift', ascending=False)"
   ]
  },
  {
   "cell_type": "markdown",
   "metadata": {},
   "source": [
    "** These Product Categories should be placed near to each other! **  \n",
    "The Customers who bought antecedent are more likely to buy consequesent."
   ]
  },
  {
   "cell_type": "markdown",
   "metadata": {},
   "source": [
    "* Support: Percentage of total transactions with that product.\n",
    "* Confidence: The likelihood that an item B is also bought if item A is bought.\n",
    "* Lift: The increase in the ratio of sale of B when A is sold, i.e. (Confidence (A→B))/(Support (B))"
   ]
  },
  {
   "cell_type": "markdown",
   "metadata": {},
   "source": [
    "** ### End of Notebook ###  \n",
    "Miscellaneous Work:**"
   ]
  },
  {
   "cell_type": "markdown",
   "metadata": {},
   "source": [
    "### References:\n",
    "- RFM Analysis (TowardsDataScience) [https://towardsdatascience.com/find-your-best-customers-with-customer-segmentation-in-python-61d602f9eee6]\n",
    "- Apriori: GeeksForGeeks [https://www.geeksforgeeks.org/implementing-apriori-algorithm-in-python/]\n",
    "- Association Rule Mining explaination [https://stackabuse.com/association-rule-mining-via-apriori-algorithm-in-python/]"
   ]
  },
  {
   "cell_type": "code",
   "execution_count": null,
   "metadata": {},
   "outputs": [],
   "source": []
  },
  {
   "cell_type": "code",
   "execution_count": 54,
   "metadata": {},
   "outputs": [
    {
     "name": "stdout",
     "output_type": "stream",
     "text": [
      "svmem(total=8449830912, available=985243648, percent=88.3, used=7464587264, free=985243648)\n"
     ]
    }
   ],
   "source": [
    "import psutil\n",
    "print(psutil.virtual_memory())"
   ]
  },
  {
   "cell_type": "code",
   "execution_count": 45,
   "metadata": {
    "scrolled": true
   },
   "outputs": [],
   "source": [
    "#temp_df = Data[Data.Part.isin(Data.groupby(['Part'])['Profit'].sum().sort_values(ascending=False).head(1000).index)\n",
    "#             ].groupby(['TransNo', 'Part'])['SellQty'].sum().unstack().reset_index().fillna(0).set_index('TransNo')"
   ]
  },
  {
   "cell_type": "code",
   "execution_count": 46,
   "metadata": {},
   "outputs": [],
   "source": [
    "#Apr_df = temp_df.applymap(hot_encode)\n",
    "#del temp_df"
   ]
  },
  {
   "cell_type": "code",
   "execution_count": 47,
   "metadata": {},
   "outputs": [],
   "source": [
    "#Apr_df = Apr_df.fillna(0)"
   ]
  },
  {
   "cell_type": "code",
   "execution_count": 48,
   "metadata": {},
   "outputs": [],
   "source": [
    "# Building the model \n",
    "#frq_items = apriori(Apr_df, min_support = 0.02, use_colnames = True) "
   ]
  },
  {
   "cell_type": "code",
   "execution_count": 49,
   "metadata": {},
   "outputs": [],
   "source": [
    "# Collecting the inferred rules in a dataframe \n",
    "#rules2 = association_rules(frq_items, metric =\"lift\", min_threshold = 1) \n",
    "#rules2 = rules2.sort_values(['confidence', 'lift'], ascending =[False, False]) \n",
    "#rules2.head(10) "
   ]
  },
  {
   "cell_type": "markdown",
   "metadata": {},
   "source": [
    "### Which products are returned frequently?\n",
    "\n",
    "**- Decided to drop these records**"
   ]
  },
  {
   "cell_type": "code",
   "execution_count": 50,
   "metadata": {},
   "outputs": [],
   "source": [
    "#Data[Data.SellQty == 0].Category.unique().shape"
   ]
  },
  {
   "cell_type": "code",
   "execution_count": 51,
   "metadata": {},
   "outputs": [],
   "source": [
    "#Data[(Data['Part'].isin(Data[Data.SellQty == 0].Part))& (Data['CustomerNo'].isin(Data[Data.SellQty == 0].CustomerNo))]"
   ]
  },
  {
   "cell_type": "code",
   "execution_count": 52,
   "metadata": {
    "scrolled": true
   },
   "outputs": [],
   "source": [
    "#Data[(Data.CustomerNo == '33253')&(Data.Part == 'P915PA17332')]['SellQty'].sum()#.sort_values('TransactionDate')"
   ]
  },
  {
   "cell_type": "code",
   "execution_count": 53,
   "metadata": {
    "scrolled": true
   },
   "outputs": [],
   "source": [
    "#Data[Data.Part == 'P915PA17332']"
   ]
  },
  {
   "cell_type": "code",
   "execution_count": null,
   "metadata": {},
   "outputs": [],
   "source": []
  }
 ],
 "metadata": {
  "kernelspec": {
   "display_name": "Python 3",
   "language": "python",
   "name": "python3"
  },
  "language_info": {
   "codemirror_mode": {
    "name": "ipython",
    "version": 3
   },
   "file_extension": ".py",
   "mimetype": "text/x-python",
   "name": "python",
   "nbconvert_exporter": "python",
   "pygments_lexer": "ipython3",
   "version": "3.6.4"
  }
 },
 "nbformat": 4,
 "nbformat_minor": 2
}
