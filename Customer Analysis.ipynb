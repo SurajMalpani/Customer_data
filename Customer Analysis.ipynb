{
 "cells": [
  {
   "cell_type": "code",
   "execution_count": 1,
   "metadata": {},
   "outputs": [],
   "source": [
    "import pandas as pd\n",
    "import pandas_profiling\n",
    "import seaborn as sns\n",
    "import numpy as np\n",
    "from mlxtend.frequent_patterns import apriori, association_rules"
   ]
  },
  {
   "cell_type": "markdown",
   "metadata": {},
   "source": [
    "### Data loading and pre-processing"
   ]
  },
  {
   "cell_type": "code",
   "execution_count": 2,
   "metadata": {},
   "outputs": [],
   "source": [
    "Data = pd.read_csv('SalesData.csv')"
   ]
  },
  {
   "cell_type": "code",
   "execution_count": 3,
   "metadata": {},
   "outputs": [
    {
     "name": "stdout",
     "output_type": "stream",
     "text": [
      "Wall time: 1.29 s\n"
     ]
    }
   ],
   "source": [
    "Data = Data.drop('Unnamed: 0', axis =1)\n",
    "Data['Profit'] = (Data['SellPrice'] - Data['COGS']) * Data['SellQty'] \n",
    "Data['TransactionDate'] = pd.to_datetime(Data['TransactionDate'])"
   ]
  },
  {
   "cell_type": "code",
   "execution_count": 4,
   "metadata": {},
   "outputs": [],
   "source": [
    "Data['TransNo'] = Data['TransNo'].astype(str)\n",
    "Data['CustomerNo'] = Data['CustomerNo'].astype(str)\n",
    "Data['SubCategory'] = Data['SubCategory'].astype(str)"
   ]
  },
  {
   "cell_type": "code",
   "execution_count": 127,
   "metadata": {},
   "outputs": [],
   "source": [
    "#Dropping transaction lines with less than 0 Selling Price and negative SellQty\n",
    "Data = Data[(Data.SellPrice > 0) & (Data.SellQty >= 0)]"
   ]
  },
  {
   "cell_type": "markdown",
   "metadata": {},
   "source": [
    "### Data Overview"
   ]
  },
  {
   "cell_type": "code",
   "execution_count": 128,
   "metadata": {},
   "outputs": [
    {
     "data": {
      "text/plain": [
       "(2156625, 11)"
      ]
     },
     "execution_count": 128,
     "metadata": {},
     "output_type": "execute_result"
    }
   ],
   "source": [
    "Data.shape"
   ]
  },
  {
   "cell_type": "code",
   "execution_count": 129,
   "metadata": {},
   "outputs": [
    {
     "data": {
      "text/html": [
       "<div>\n",
       "<style scoped>\n",
       "    .dataframe tbody tr th:only-of-type {\n",
       "        vertical-align: middle;\n",
       "    }\n",
       "\n",
       "    .dataframe tbody tr th {\n",
       "        vertical-align: top;\n",
       "    }\n",
       "\n",
       "    .dataframe thead th {\n",
       "        text-align: right;\n",
       "    }\n",
       "</style>\n",
       "<table border=\"1\" class=\"dataframe\">\n",
       "  <thead>\n",
       "    <tr style=\"text-align: right;\">\n",
       "      <th></th>\n",
       "      <th>TransNo</th>\n",
       "      <th>TransLine</th>\n",
       "      <th>CustomerNo</th>\n",
       "      <th>Category</th>\n",
       "      <th>SubCategory</th>\n",
       "      <th>TransactionDate</th>\n",
       "      <th>SellPrice</th>\n",
       "      <th>SellQty</th>\n",
       "      <th>COGS</th>\n",
       "      <th>Part</th>\n",
       "      <th>Profit</th>\n",
       "    </tr>\n",
       "  </thead>\n",
       "  <tbody>\n",
       "    <tr>\n",
       "      <td>0</td>\n",
       "      <td>4515542</td>\n",
       "      <td>4</td>\n",
       "      <td>80000</td>\n",
       "      <td>CAT3002</td>\n",
       "      <td>430</td>\n",
       "      <td>2015-01-02</td>\n",
       "      <td>25.01</td>\n",
       "      <td>0.0</td>\n",
       "      <td>19.899</td>\n",
       "      <td>P140PA780</td>\n",
       "      <td>0.000</td>\n",
       "    </tr>\n",
       "    <tr>\n",
       "      <td>1</td>\n",
       "      <td>4516499</td>\n",
       "      <td>3</td>\n",
       "      <td>80000</td>\n",
       "      <td>CAT3002</td>\n",
       "      <td>430</td>\n",
       "      <td>2015-01-05</td>\n",
       "      <td>25.01</td>\n",
       "      <td>1.0</td>\n",
       "      <td>20.295</td>\n",
       "      <td>P140PA780</td>\n",
       "      <td>4.715</td>\n",
       "    </tr>\n",
       "    <tr>\n",
       "      <td>2</td>\n",
       "      <td>4516508</td>\n",
       "      <td>3</td>\n",
       "      <td>80000</td>\n",
       "      <td>CAT3002</td>\n",
       "      <td>430</td>\n",
       "      <td>2015-01-05</td>\n",
       "      <td>25.01</td>\n",
       "      <td>1.0</td>\n",
       "      <td>20.295</td>\n",
       "      <td>P140PA780</td>\n",
       "      <td>4.715</td>\n",
       "    </tr>\n",
       "    <tr>\n",
       "      <td>3</td>\n",
       "      <td>4516509</td>\n",
       "      <td>4</td>\n",
       "      <td>80000</td>\n",
       "      <td>CAT3002</td>\n",
       "      <td>430</td>\n",
       "      <td>2015-01-05</td>\n",
       "      <td>25.01</td>\n",
       "      <td>1.0</td>\n",
       "      <td>20.295</td>\n",
       "      <td>P140PA780</td>\n",
       "      <td>4.715</td>\n",
       "    </tr>\n",
       "    <tr>\n",
       "      <td>4</td>\n",
       "      <td>4517969</td>\n",
       "      <td>10</td>\n",
       "      <td>32965</td>\n",
       "      <td>CAT3002</td>\n",
       "      <td>430</td>\n",
       "      <td>2015-01-06</td>\n",
       "      <td>23.28</td>\n",
       "      <td>2.0</td>\n",
       "      <td>19.899</td>\n",
       "      <td>P140PA780</td>\n",
       "      <td>6.762</td>\n",
       "    </tr>\n",
       "  </tbody>\n",
       "</table>\n",
       "</div>"
      ],
      "text/plain": [
       "   TransNo  TransLine CustomerNo Category SubCategory TransactionDate  \\\n",
       "0  4515542          4      80000  CAT3002         430      2015-01-02   \n",
       "1  4516499          3      80000  CAT3002         430      2015-01-05   \n",
       "2  4516508          3      80000  CAT3002         430      2015-01-05   \n",
       "3  4516509          4      80000  CAT3002         430      2015-01-05   \n",
       "4  4517969         10      32965  CAT3002         430      2015-01-06   \n",
       "\n",
       "   SellPrice  SellQty    COGS       Part  Profit  \n",
       "0      25.01      0.0  19.899  P140PA780   0.000  \n",
       "1      25.01      1.0  20.295  P140PA780   4.715  \n",
       "2      25.01      1.0  20.295  P140PA780   4.715  \n",
       "3      25.01      1.0  20.295  P140PA780   4.715  \n",
       "4      23.28      2.0  19.899  P140PA780   6.762  "
      ]
     },
     "execution_count": 129,
     "metadata": {},
     "output_type": "execute_result"
    }
   ],
   "source": [
    "Data.head()"
   ]
  },
  {
   "cell_type": "code",
   "execution_count": 82,
   "metadata": {},
   "outputs": [
    {
     "data": {
      "text/plain": [
       "TransNo                    object\n",
       "TransLine                   int64\n",
       "CustomerNo                 object\n",
       "Category                   object\n",
       "SubCategory                object\n",
       "TransactionDate    datetime64[ns]\n",
       "SellPrice                 float64\n",
       "SellQty                   float64\n",
       "COGS                      float64\n",
       "Part                       object\n",
       "Profit                    float64\n",
       "dtype: object"
      ]
     },
     "execution_count": 82,
     "metadata": {},
     "output_type": "execute_result"
    }
   ],
   "source": [
    "Data.dtypes"
   ]
  },
  {
   "cell_type": "code",
   "execution_count": 158,
   "metadata": {},
   "outputs": [
    {
     "name": "stdout",
     "output_type": "stream",
     "text": [
      "TransNo : 321754\n",
      "TransLine : 894\n",
      "CustomerNo : 1305\n",
      "Category : 14\n",
      "SubCategory : 295\n",
      "TransactionDate : 890\n",
      "SellPrice : 31340\n",
      "SellQty : 575\n",
      "COGS : 30587\n",
      "Part : 42295\n",
      "Profit : 193552\n"
     ]
    }
   ],
   "source": [
    "#unique values in each column\n",
    "def unique_counts(df):\n",
    "   for i in df.columns:\n",
    "       count = df[i].nunique()\n",
    "       print(i, \":\", count)\n",
    "\n",
    "unique_counts(Data)"
   ]
  },
  {
   "cell_type": "code",
   "execution_count": 130,
   "metadata": {},
   "outputs": [
    {
     "data": {
      "text/html": [
       "<div>\n",
       "<style scoped>\n",
       "    .dataframe tbody tr th:only-of-type {\n",
       "        vertical-align: middle;\n",
       "    }\n",
       "\n",
       "    .dataframe tbody tr th {\n",
       "        vertical-align: top;\n",
       "    }\n",
       "\n",
       "    .dataframe thead th {\n",
       "        text-align: right;\n",
       "    }\n",
       "</style>\n",
       "<table border=\"1\" class=\"dataframe\">\n",
       "  <thead>\n",
       "    <tr style=\"text-align: right;\">\n",
       "      <th></th>\n",
       "      <th>TransLine</th>\n",
       "      <th>SellPrice</th>\n",
       "      <th>SellQty</th>\n",
       "      <th>COGS</th>\n",
       "      <th>Profit</th>\n",
       "    </tr>\n",
       "  </thead>\n",
       "  <tbody>\n",
       "    <tr>\n",
       "      <td>count</td>\n",
       "      <td>2.15662e+06</td>\n",
       "      <td>2.15662e+06</td>\n",
       "      <td>2.15662e+06</td>\n",
       "      <td>2.15662e+06</td>\n",
       "      <td>2.15662e+06</td>\n",
       "    </tr>\n",
       "    <tr>\n",
       "      <td>mean</td>\n",
       "      <td>20.4193</td>\n",
       "      <td>27.4894</td>\n",
       "      <td>13.2433</td>\n",
       "      <td>19.1082</td>\n",
       "      <td>24.5527</td>\n",
       "    </tr>\n",
       "    <tr>\n",
       "      <td>std</td>\n",
       "      <td>30.6311</td>\n",
       "      <td>74.7268</td>\n",
       "      <td>109.626</td>\n",
       "      <td>55.5466</td>\n",
       "      <td>112.807</td>\n",
       "    </tr>\n",
       "    <tr>\n",
       "      <td>min</td>\n",
       "      <td>1</td>\n",
       "      <td>0.01</td>\n",
       "      <td>0</td>\n",
       "      <td>-0.1</td>\n",
       "      <td>-9434</td>\n",
       "    </tr>\n",
       "    <tr>\n",
       "      <td>25%</td>\n",
       "      <td>3</td>\n",
       "      <td>2.87</td>\n",
       "      <td>1</td>\n",
       "      <td>1.591</td>\n",
       "      <td>2.7</td>\n",
       "    </tr>\n",
       "    <tr>\n",
       "      <td>50%</td>\n",
       "      <td>11</td>\n",
       "      <td>7.74</td>\n",
       "      <td>2</td>\n",
       "      <td>4.75</td>\n",
       "      <td>8.592</td>\n",
       "    </tr>\n",
       "    <tr>\n",
       "      <td>75%</td>\n",
       "      <td>25</td>\n",
       "      <td>27.09</td>\n",
       "      <td>8</td>\n",
       "      <td>18.77</td>\n",
       "      <td>23</td>\n",
       "    </tr>\n",
       "    <tr>\n",
       "      <td>max</td>\n",
       "      <td>894</td>\n",
       "      <td>12000</td>\n",
       "      <td>20000</td>\n",
       "      <td>9580.87</td>\n",
       "      <td>27750</td>\n",
       "    </tr>\n",
       "  </tbody>\n",
       "</table>\n",
       "</div>"
      ],
      "text/plain": [
       "         TransLine    SellPrice      SellQty         COGS       Profit\n",
       "count  2.15662e+06  2.15662e+06  2.15662e+06  2.15662e+06  2.15662e+06\n",
       "mean       20.4193      27.4894      13.2433      19.1082      24.5527\n",
       "std        30.6311      74.7268      109.626      55.5466      112.807\n",
       "min              1         0.01            0         -0.1        -9434\n",
       "25%              3         2.87            1        1.591          2.7\n",
       "50%             11         7.74            2         4.75        8.592\n",
       "75%             25        27.09            8        18.77           23\n",
       "max            894        12000        20000      9580.87        27750"
      ]
     },
     "execution_count": 130,
     "metadata": {},
     "output_type": "execute_result"
    }
   ],
   "source": [
    "Data.describe().apply(lambda s: s.apply(lambda x: format(x, 'g')))"
   ]
  },
  {
   "cell_type": "code",
   "execution_count": 132,
   "metadata": {},
   "outputs": [
    {
     "data": {
      "text/plain": [
       "Timedelta('1021 days 00:00:00')"
      ]
     },
     "execution_count": 132,
     "metadata": {},
     "output_type": "execute_result"
    }
   ],
   "source": [
    "Data['TransactionDate'].max() - Data['TransactionDate'].min() "
   ]
  },
  {
   "cell_type": "code",
   "execution_count": null,
   "metadata": {},
   "outputs": [],
   "source": []
  },
  {
   "cell_type": "markdown",
   "metadata": {},
   "source": [
    "## Time Series Analysis"
   ]
  },
  {
   "cell_type": "code",
   "execution_count": 169,
   "metadata": {},
   "outputs": [
    {
     "data": {
      "text/plain": [
       "array([ 1,  2,  3,  4,  5,  6,  7,  8,  9, 10, 11, 12], dtype=int64)"
      ]
     },
     "execution_count": 169,
     "metadata": {},
     "output_type": "execute_result"
    }
   ],
   "source": [
    "Data['TransactionDate'].dt.month.unique()"
   ]
  },
  {
   "cell_type": "code",
   "execution_count": 192,
   "metadata": {},
   "outputs": [
    {
     "data": {
      "text/plain": [
       "<matplotlib.axes._subplots.AxesSubplot at 0x23c9e0a6320>"
      ]
     },
     "execution_count": 192,
     "metadata": {},
     "output_type": "execute_result"
    },
    {
     "data": {
      "image/png": "[encoded data removed]",
      "text/plain": [
       "<Figure size 432x288 with 1 Axes>"
      ]
     },
     "metadata": {},
     "output_type": "display_data"
    }
   ],
   "source": [
    "Data.groupby([Data['TransactionDate'].dt.to_period('M')]).size().plot()"
   ]
  },
  {
   "cell_type": "code",
   "execution_count": 194,
   "metadata": {},
   "outputs": [
    {
     "data": {
      "text/plain": [
       "<matplotlib.axes._subplots.AxesSubplot at 0x23c9f37c470>"
      ]
     },
     "execution_count": 194,
     "metadata": {},
     "output_type": "execute_result"
    },
    {
     "data": {
      "image/png": "[encoded data removed]",
      "text/plain": [
       "<Figure size 432x288 with 1 Axes>"
      ]
     },
     "metadata": {},
     "output_type": "display_data"
    }
   ],
   "source": [
    "Data.groupby([Data['TransactionDate'].dt.to_period('M')])['SellQty'].sum().plot()"
   ]
  },
  {
   "cell_type": "markdown",
   "metadata": {},
   "source": [
    "The above graph shows we are selling lesser products but the profit is increasing in the last year. That could mean, we are focusing on higher profit products."
   ]
  },
  {
   "cell_type": "code",
   "execution_count": 188,
   "metadata": {
    "scrolled": true
   },
   "outputs": [
    {
     "data": {
      "text/plain": [
       "<matplotlib.axes._subplots.AxesSubplot at 0x23c960f4438>"
      ]
     },
     "execution_count": 188,
     "metadata": {},
     "output_type": "execute_result"
    },
    {
     "data": {
      "image/png": "[encoded data removed]",
      "text/plain": [
       "<Figure size 432x288 with 1 Axes>"
      ]
     },
     "metadata": {},
     "output_type": "display_data"
    }
   ],
   "source": [
    "Data.groupby([Data['TransactionDate'].dt.to_period('M')])['Profit'].sum().plot()"
   ]
  },
  {
   "cell_type": "code",
   "execution_count": null,
   "metadata": {},
   "outputs": [],
   "source": []
  },
  {
   "cell_type": "markdown",
   "metadata": {},
   "source": [
    "## Customer related analysis"
   ]
  },
  {
   "cell_type": "markdown",
   "metadata": {},
   "source": [
    "#### RFM Analysis"
   ]
  },
  {
   "cell_type": "code",
   "execution_count": 35,
   "metadata": {},
   "outputs": [
    {
     "data": {
      "text/html": [
       "<div>\n",
       "<style scoped>\n",
       "    .dataframe tbody tr th:only-of-type {\n",
       "        vertical-align: middle;\n",
       "    }\n",
       "\n",
       "    .dataframe tbody tr th {\n",
       "        vertical-align: top;\n",
       "    }\n",
       "\n",
       "    .dataframe thead th {\n",
       "        text-align: right;\n",
       "    }\n",
       "</style>\n",
       "<table border=\"1\" class=\"dataframe\">\n",
       "  <thead>\n",
       "    <tr style=\"text-align: right;\">\n",
       "      <th></th>\n",
       "      <th>TransNo</th>\n",
       "      <th>TransLine</th>\n",
       "      <th>CustomerNo</th>\n",
       "      <th>Category</th>\n",
       "      <th>SubCategory</th>\n",
       "      <th>TransactionDate</th>\n",
       "      <th>SellPrice</th>\n",
       "      <th>SellQty</th>\n",
       "      <th>COGS</th>\n",
       "      <th>Part</th>\n",
       "      <th>Profit</th>\n",
       "    </tr>\n",
       "  </thead>\n",
       "  <tbody>\n",
       "    <tr>\n",
       "      <td>0</td>\n",
       "      <td>4515542</td>\n",
       "      <td>4</td>\n",
       "      <td>80000</td>\n",
       "      <td>CAT3002</td>\n",
       "      <td>430</td>\n",
       "      <td>2015-01-02</td>\n",
       "      <td>25.01</td>\n",
       "      <td>0.0</td>\n",
       "      <td>19.899</td>\n",
       "      <td>P140PA780</td>\n",
       "      <td>0.000</td>\n",
       "    </tr>\n",
       "    <tr>\n",
       "      <td>1</td>\n",
       "      <td>4516499</td>\n",
       "      <td>3</td>\n",
       "      <td>80000</td>\n",
       "      <td>CAT3002</td>\n",
       "      <td>430</td>\n",
       "      <td>2015-01-05</td>\n",
       "      <td>25.01</td>\n",
       "      <td>1.0</td>\n",
       "      <td>20.295</td>\n",
       "      <td>P140PA780</td>\n",
       "      <td>4.715</td>\n",
       "    </tr>\n",
       "    <tr>\n",
       "      <td>2</td>\n",
       "      <td>4516508</td>\n",
       "      <td>3</td>\n",
       "      <td>80000</td>\n",
       "      <td>CAT3002</td>\n",
       "      <td>430</td>\n",
       "      <td>2015-01-05</td>\n",
       "      <td>25.01</td>\n",
       "      <td>1.0</td>\n",
       "      <td>20.295</td>\n",
       "      <td>P140PA780</td>\n",
       "      <td>4.715</td>\n",
       "    </tr>\n",
       "    <tr>\n",
       "      <td>3</td>\n",
       "      <td>4516509</td>\n",
       "      <td>4</td>\n",
       "      <td>80000</td>\n",
       "      <td>CAT3002</td>\n",
       "      <td>430</td>\n",
       "      <td>2015-01-05</td>\n",
       "      <td>25.01</td>\n",
       "      <td>1.0</td>\n",
       "      <td>20.295</td>\n",
       "      <td>P140PA780</td>\n",
       "      <td>4.715</td>\n",
       "    </tr>\n",
       "    <tr>\n",
       "      <td>4</td>\n",
       "      <td>4517969</td>\n",
       "      <td>10</td>\n",
       "      <td>32965</td>\n",
       "      <td>CAT3002</td>\n",
       "      <td>430</td>\n",
       "      <td>2015-01-06</td>\n",
       "      <td>23.28</td>\n",
       "      <td>2.0</td>\n",
       "      <td>19.899</td>\n",
       "      <td>P140PA780</td>\n",
       "      <td>6.762</td>\n",
       "    </tr>\n",
       "  </tbody>\n",
       "</table>\n",
       "</div>"
      ],
      "text/plain": [
       "   TransNo  TransLine CustomerNo Category SubCategory TransactionDate  \\\n",
       "0  4515542          4      80000  CAT3002         430      2015-01-02   \n",
       "1  4516499          3      80000  CAT3002         430      2015-01-05   \n",
       "2  4516508          3      80000  CAT3002         430      2015-01-05   \n",
       "3  4516509          4      80000  CAT3002         430      2015-01-05   \n",
       "4  4517969         10      32965  CAT3002         430      2015-01-06   \n",
       "\n",
       "   SellPrice  SellQty    COGS       Part  Profit  \n",
       "0      25.01      0.0  19.899  P140PA780   0.000  \n",
       "1      25.01      1.0  20.295  P140PA780   4.715  \n",
       "2      25.01      1.0  20.295  P140PA780   4.715  \n",
       "3      25.01      1.0  20.295  P140PA780   4.715  \n",
       "4      23.28      2.0  19.899  P140PA780   6.762  "
      ]
     },
     "execution_count": 35,
     "metadata": {},
     "output_type": "execute_result"
    }
   ],
   "source": [
    "Data.head()"
   ]
  },
  {
   "cell_type": "code",
   "execution_count": 59,
   "metadata": {},
   "outputs": [
    {
     "data": {
      "text/html": [
       "<div>\n",
       "<style scoped>\n",
       "    .dataframe tbody tr th:only-of-type {\n",
       "        vertical-align: middle;\n",
       "    }\n",
       "\n",
       "    .dataframe tbody tr th {\n",
       "        vertical-align: top;\n",
       "    }\n",
       "\n",
       "    .dataframe thead th {\n",
       "        text-align: right;\n",
       "    }\n",
       "</style>\n",
       "<table border=\"1\" class=\"dataframe\">\n",
       "  <thead>\n",
       "    <tr style=\"text-align: right;\">\n",
       "      <th></th>\n",
       "      <th>LastVisit</th>\n",
       "      <th>TotalVisits</th>\n",
       "      <th>TotalItemsBought</th>\n",
       "      <th>TotalProfit</th>\n",
       "    </tr>\n",
       "    <tr>\n",
       "      <th>CustomerNo</th>\n",
       "      <th></th>\n",
       "      <th></th>\n",
       "      <th></th>\n",
       "      <th></th>\n",
       "    </tr>\n",
       "  </thead>\n",
       "  <tbody>\n",
       "    <tr>\n",
       "      <td>10000</td>\n",
       "      <td>2017-06-30</td>\n",
       "      <td>17</td>\n",
       "      <td>291</td>\n",
       "      <td>7239.690</td>\n",
       "    </tr>\n",
       "    <tr>\n",
       "      <td>10012</td>\n",
       "      <td>2017-08-08</td>\n",
       "      <td>10</td>\n",
       "      <td>12</td>\n",
       "      <td>1288.732</td>\n",
       "    </tr>\n",
       "    <tr>\n",
       "      <td>10028</td>\n",
       "      <td>2017-09-18</td>\n",
       "      <td>73</td>\n",
       "      <td>312</td>\n",
       "      <td>4656.900</td>\n",
       "    </tr>\n",
       "    <tr>\n",
       "      <td>10051</td>\n",
       "      <td>2017-10-05</td>\n",
       "      <td>150</td>\n",
       "      <td>1392</td>\n",
       "      <td>34220.119</td>\n",
       "    </tr>\n",
       "    <tr>\n",
       "      <td>100581</td>\n",
       "      <td>2017-10-18</td>\n",
       "      <td>226</td>\n",
       "      <td>720</td>\n",
       "      <td>49102.481</td>\n",
       "    </tr>\n",
       "    <tr>\n",
       "      <td>...</td>\n",
       "      <td>...</td>\n",
       "      <td>...</td>\n",
       "      <td>...</td>\n",
       "      <td>...</td>\n",
       "    </tr>\n",
       "    <tr>\n",
       "      <td>93277</td>\n",
       "      <td>2017-10-16</td>\n",
       "      <td>39</td>\n",
       "      <td>252</td>\n",
       "      <td>22563.425</td>\n",
       "    </tr>\n",
       "    <tr>\n",
       "      <td>9405</td>\n",
       "      <td>2017-09-01</td>\n",
       "      <td>15</td>\n",
       "      <td>20</td>\n",
       "      <td>1879.221</td>\n",
       "    </tr>\n",
       "    <tr>\n",
       "      <td>94081</td>\n",
       "      <td>2016-11-14</td>\n",
       "      <td>2</td>\n",
       "      <td>19</td>\n",
       "      <td>-22.148</td>\n",
       "    </tr>\n",
       "    <tr>\n",
       "      <td>97101</td>\n",
       "      <td>2017-01-16</td>\n",
       "      <td>1</td>\n",
       "      <td>1</td>\n",
       "      <td>33.996</td>\n",
       "    </tr>\n",
       "    <tr>\n",
       "      <td>97580</td>\n",
       "      <td>2015-08-06</td>\n",
       "      <td>7</td>\n",
       "      <td>47</td>\n",
       "      <td>1995.347</td>\n",
       "    </tr>\n",
       "  </tbody>\n",
       "</table>\n",
       "<p>1441 rows × 4 columns</p>\n",
       "</div>"
      ],
      "text/plain": [
       "            LastVisit  TotalVisits  TotalItemsBought  TotalProfit\n",
       "CustomerNo                                                       \n",
       "10000      2017-06-30           17               291     7239.690\n",
       "10012      2017-08-08           10                12     1288.732\n",
       "10028      2017-09-18           73               312     4656.900\n",
       "10051      2017-10-05          150              1392    34220.119\n",
       "100581     2017-10-18          226               720    49102.481\n",
       "...               ...          ...               ...          ...\n",
       "93277      2017-10-16           39               252    22563.425\n",
       "9405       2017-09-01           15                20     1879.221\n",
       "94081      2016-11-14            2                19      -22.148\n",
       "97101      2017-01-16            1                 1       33.996\n",
       "97580      2015-08-06            7                47     1995.347\n",
       "\n",
       "[1441 rows x 4 columns]"
      ]
     },
     "execution_count": 59,
     "metadata": {},
     "output_type": "execute_result"
    }
   ],
   "source": [
    "pd.DataFrame({\n",
    "    'LastVisit' : Data.groupby('CustomerNo')['TransactionDate'].max(),\n",
    "    'TotalVisits' : Data.groupby(['CustomerNo'])['TransNo'].nunique(), \n",
    "    'TotalItemsBought' : Data.groupby(['CustomerNo']).size(),\n",
    "    'TotalProfit' : Data.groupby(['CustomerNo'])['Profit'].sum()\n",
    "    })"
   ]
  },
  {
   "cell_type": "code",
   "execution_count": null,
   "metadata": {},
   "outputs": [],
   "source": []
  },
  {
   "cell_type": "markdown",
   "metadata": {},
   "source": [
    "### Clustering customers based on Profit\n",
    "And do what with it?"
   ]
  },
  {
   "cell_type": "code",
   "execution_count": null,
   "metadata": {},
   "outputs": [],
   "source": []
  },
  {
   "cell_type": "markdown",
   "metadata": {},
   "source": [
    "### Churn, customers who are inactive"
   ]
  },
  {
   "cell_type": "code",
   "execution_count": null,
   "metadata": {},
   "outputs": [],
   "source": []
  },
  {
   "cell_type": "markdown",
   "metadata": {},
   "source": [
    "## Df for Transaction wise analysis"
   ]
  },
  {
   "cell_type": "code",
   "execution_count": null,
   "metadata": {},
   "outputs": [],
   "source": []
  },
  {
   "cell_type": "code",
   "execution_count": null,
   "metadata": {},
   "outputs": [],
   "source": []
  },
  {
   "cell_type": "markdown",
   "metadata": {},
   "source": [
    "## Product wise analysis\n",
    "Which Products/categories are most profitable?"
   ]
  },
  {
   "cell_type": "code",
   "execution_count": 205,
   "metadata": {},
   "outputs": [
    {
     "data": {
      "text/plain": [
       "<matplotlib.axes._subplots.AxesSubplot at 0x23cb188d780>"
      ]
     },
     "execution_count": 205,
     "metadata": {},
     "output_type": "execute_result"
    },
    {
     "data": {
      "image/png": "[encoded data removed]",
      "text/plain": [
       "<Figure size 432x288 with 1 Axes>"
      ]
     },
     "metadata": {},
     "output_type": "display_data"
    }
   ],
   "source": [
    "Data.groupby(['Category'])['Profit'].sum().sort_values().plot.bar()"
   ]
  },
  {
   "cell_type": "code",
   "execution_count": 210,
   "metadata": {},
   "outputs": [
    {
     "data": {
      "text/plain": [
       "<matplotlib.axes._subplots.AxesSubplot at 0x23ceddc1ac8>"
      ]
     },
     "execution_count": 210,
     "metadata": {},
     "output_type": "execute_result"
    },
    {
     "data": {
      "image/png": "[encoded data removed]",
      "text/plain": [
       "<Figure size 432x288 with 1 Axes>"
      ]
     },
     "metadata": {},
     "output_type": "display_data"
    }
   ],
   "source": [
    "Data.groupby(['Part'])['Profit'].sum().sort_values(ascending=False).head(20).plot.bar()"
   ]
  },
  {
   "cell_type": "code",
   "execution_count": null,
   "metadata": {},
   "outputs": [],
   "source": []
  },
  {
   "cell_type": "markdown",
   "metadata": {},
   "source": [
    "### Free Samples made them buy the product over other customers?\n",
    "Calculate precision/recall for those products."
   ]
  },
  {
   "cell_type": "code",
   "execution_count": 73,
   "metadata": {
    "scrolled": true
   },
   "outputs": [
    {
     "data": {
      "text/plain": [
       "0            P140PA780\n",
       "5            P140PA780\n",
       "8            P140PA780\n",
       "84           P140PA780\n",
       "111          P140PA780\n",
       "              ...     \n",
       "2200731    P555PA40964\n",
       "2200779    P555PA40994\n",
       "2200908    P555PA41082\n",
       "2200991    P555PA41142\n",
       "2201089    P555PA41222\n",
       "Name: Part, Length: 167625, dtype: object"
      ]
     },
     "execution_count": 73,
     "metadata": {},
     "output_type": "execute_result"
    }
   ],
   "source": [
    "Data[Data.SellQty == 0]['Part']"
   ]
  },
  {
   "cell_type": "code",
   "execution_count": null,
   "metadata": {},
   "outputs": [],
   "source": []
  },
  {
   "cell_type": "markdown",
   "metadata": {},
   "source": [
    "## Recommendations based on Apriori"
   ]
  },
  {
   "cell_type": "code",
   "execution_count": 211,
   "metadata": {},
   "outputs": [
    {
     "data": {
      "text/html": [
       "<div>\n",
       "<style scoped>\n",
       "    .dataframe tbody tr th:only-of-type {\n",
       "        vertical-align: middle;\n",
       "    }\n",
       "\n",
       "    .dataframe tbody tr th {\n",
       "        vertical-align: top;\n",
       "    }\n",
       "\n",
       "    .dataframe thead th {\n",
       "        text-align: right;\n",
       "    }\n",
       "</style>\n",
       "<table border=\"1\" class=\"dataframe\">\n",
       "  <thead>\n",
       "    <tr style=\"text-align: right;\">\n",
       "      <th></th>\n",
       "      <th>TransNo</th>\n",
       "      <th>TransLine</th>\n",
       "      <th>CustomerNo</th>\n",
       "      <th>Category</th>\n",
       "      <th>SubCategory</th>\n",
       "      <th>TransactionDate</th>\n",
       "      <th>SellPrice</th>\n",
       "      <th>SellQty</th>\n",
       "      <th>COGS</th>\n",
       "      <th>Part</th>\n",
       "      <th>Profit</th>\n",
       "    </tr>\n",
       "  </thead>\n",
       "  <tbody>\n",
       "    <tr>\n",
       "      <td>0</td>\n",
       "      <td>4515542</td>\n",
       "      <td>4</td>\n",
       "      <td>80000</td>\n",
       "      <td>CAT3002</td>\n",
       "      <td>430</td>\n",
       "      <td>2015-01-02</td>\n",
       "      <td>25.01</td>\n",
       "      <td>0.0</td>\n",
       "      <td>19.899</td>\n",
       "      <td>P140PA780</td>\n",
       "      <td>0.000</td>\n",
       "    </tr>\n",
       "    <tr>\n",
       "      <td>1</td>\n",
       "      <td>4516499</td>\n",
       "      <td>3</td>\n",
       "      <td>80000</td>\n",
       "      <td>CAT3002</td>\n",
       "      <td>430</td>\n",
       "      <td>2015-01-05</td>\n",
       "      <td>25.01</td>\n",
       "      <td>1.0</td>\n",
       "      <td>20.295</td>\n",
       "      <td>P140PA780</td>\n",
       "      <td>4.715</td>\n",
       "    </tr>\n",
       "    <tr>\n",
       "      <td>2</td>\n",
       "      <td>4516508</td>\n",
       "      <td>3</td>\n",
       "      <td>80000</td>\n",
       "      <td>CAT3002</td>\n",
       "      <td>430</td>\n",
       "      <td>2015-01-05</td>\n",
       "      <td>25.01</td>\n",
       "      <td>1.0</td>\n",
       "      <td>20.295</td>\n",
       "      <td>P140PA780</td>\n",
       "      <td>4.715</td>\n",
       "    </tr>\n",
       "    <tr>\n",
       "      <td>3</td>\n",
       "      <td>4516509</td>\n",
       "      <td>4</td>\n",
       "      <td>80000</td>\n",
       "      <td>CAT3002</td>\n",
       "      <td>430</td>\n",
       "      <td>2015-01-05</td>\n",
       "      <td>25.01</td>\n",
       "      <td>1.0</td>\n",
       "      <td>20.295</td>\n",
       "      <td>P140PA780</td>\n",
       "      <td>4.715</td>\n",
       "    </tr>\n",
       "    <tr>\n",
       "      <td>4</td>\n",
       "      <td>4517969</td>\n",
       "      <td>10</td>\n",
       "      <td>32965</td>\n",
       "      <td>CAT3002</td>\n",
       "      <td>430</td>\n",
       "      <td>2015-01-06</td>\n",
       "      <td>23.28</td>\n",
       "      <td>2.0</td>\n",
       "      <td>19.899</td>\n",
       "      <td>P140PA780</td>\n",
       "      <td>6.762</td>\n",
       "    </tr>\n",
       "  </tbody>\n",
       "</table>\n",
       "</div>"
      ],
      "text/plain": [
       "   TransNo  TransLine CustomerNo Category SubCategory TransactionDate  \\\n",
       "0  4515542          4      80000  CAT3002         430      2015-01-02   \n",
       "1  4516499          3      80000  CAT3002         430      2015-01-05   \n",
       "2  4516508          3      80000  CAT3002         430      2015-01-05   \n",
       "3  4516509          4      80000  CAT3002         430      2015-01-05   \n",
       "4  4517969         10      32965  CAT3002         430      2015-01-06   \n",
       "\n",
       "   SellPrice  SellQty    COGS       Part  Profit  \n",
       "0      25.01      0.0  19.899  P140PA780   0.000  \n",
       "1      25.01      1.0  20.295  P140PA780   4.715  \n",
       "2      25.01      1.0  20.295  P140PA780   4.715  \n",
       "3      25.01      1.0  20.295  P140PA780   4.715  \n",
       "4      23.28      2.0  19.899  P140PA780   6.762  "
      ]
     },
     "execution_count": 211,
     "metadata": {},
     "output_type": "execute_result"
    }
   ],
   "source": [
    "Data.head()"
   ]
  },
  {
   "cell_type": "code",
   "execution_count": 228,
   "metadata": {},
   "outputs": [
    {
     "data": {
      "text/plain": [
       "Index(['P64PA16383', 'P328PA1719', 'P915PA17332', 'P881PA28748', 'P881PA28644',\n",
       "       'P230PA19583', 'P24PA4986', 'P915PA17333', 'P60PA17157', 'P13PA17442',\n",
       "       ...\n",
       "       'P470PA39674', 'P290PA30123', 'P2420PA5881', 'P320PA1738',\n",
       "       'P4250PA29614', 'P2446PA26516', 'P562PA35612', 'P219PA29808',\n",
       "       'P510PA1605', 'P2700PA20270'],\n",
       "      dtype='object', name='Part', length=10000)"
      ]
     },
     "execution_count": 228,
     "metadata": {},
     "output_type": "execute_result"
    }
   ],
   "source": [
    "Data.groupby(['Part'])['Profit'].sum().sort_values(ascending=False).head(10000).index"
   ]
  },
  {
   "cell_type": "code",
   "execution_count": 230,
   "metadata": {},
   "outputs": [],
   "source": [
    "temp_df = Data[Data.Part.isin(Data.groupby(['Part'])['Profit'].sum().sort_values(ascending=False).head(1000).index)\n",
    "              ].groupby(['TransNo', 'Part'])['SellQty'].sum().unstack().reset_index().fillna(0).set_index('TransNo')"
   ]
  },
  {
   "cell_type": "code",
   "execution_count": 231,
   "metadata": {},
   "outputs": [],
   "source": [
    "def hot_encode(x): \n",
    "    if(x<= 0): \n",
    "        return 0\n",
    "    if(x>= 1): \n",
    "        return 1"
   ]
  },
  {
   "cell_type": "code",
   "execution_count": 232,
   "metadata": {},
   "outputs": [],
   "source": [
    "Apr_df = temp_df.applymap(hot_encode)\n",
    "del temp_df"
   ]
  },
  {
   "cell_type": "code",
   "execution_count": 227,
   "metadata": {},
   "outputs": [
    {
     "data": {
      "text/html": [
       "<div>\n",
       "<style scoped>\n",
       "    .dataframe tbody tr th:only-of-type {\n",
       "        vertical-align: middle;\n",
       "    }\n",
       "\n",
       "    .dataframe tbody tr th {\n",
       "        vertical-align: top;\n",
       "    }\n",
       "\n",
       "    .dataframe thead th {\n",
       "        text-align: right;\n",
       "    }\n",
       "</style>\n",
       "<table border=\"1\" class=\"dataframe\">\n",
       "  <thead>\n",
       "    <tr style=\"text-align: right;\">\n",
       "      <th>Part</th>\n",
       "    </tr>\n",
       "    <tr>\n",
       "      <th>TransNo</th>\n",
       "    </tr>\n",
       "  </thead>\n",
       "  <tbody>\n",
       "  </tbody>\n",
       "</table>\n",
       "</div>"
      ],
      "text/plain": [
       "Empty DataFrame\n",
       "Columns: []\n",
       "Index: []"
      ]
     },
     "execution_count": 227,
     "metadata": {},
     "output_type": "execute_result"
    }
   ],
   "source": [
    "Apr_df"
   ]
  },
  {
   "cell_type": "code",
   "execution_count": null,
   "metadata": {},
   "outputs": [],
   "source": [
    "%%time\n",
    "# Building the model \n",
    "frq_items = apriori(Apr_df, min_support = 0.1, use_colnames = True) \n",
    "  \n",
    "# Collecting the inferred rules in a dataframe \n",
    "rules = association_rules(frq_items, metric =\"lift\", min_threshold = 1) \n",
    "rules = rules.sort_values(['confidence', 'lift'], ascending =[False, False]) \n",
    "print(rules.head()) "
   ]
  },
  {
   "cell_type": "code",
   "execution_count": null,
   "metadata": {},
   "outputs": [],
   "source": []
  },
  {
   "cell_type": "markdown",
   "metadata": {},
   "source": [
    "### Which products are returned frequently?\n",
    "\n",
    "**- Decided to drop these records**"
   ]
  },
  {
   "cell_type": "code",
   "execution_count": 146,
   "metadata": {},
   "outputs": [
    {
     "data": {
      "text/plain": [
       "(2156625, 11)"
      ]
     },
     "execution_count": 146,
     "metadata": {},
     "output_type": "execute_result"
    }
   ],
   "source": [
    "#Data[Data.SellQty < 0]['Part'].value_counts()\n",
    "Data.shape"
   ]
  },
  {
   "cell_type": "code",
   "execution_count": 154,
   "metadata": {},
   "outputs": [
    {
     "data": {
      "text/plain": [
       "(13,)"
      ]
     },
     "execution_count": 154,
     "metadata": {},
     "output_type": "execute_result"
    }
   ],
   "source": [
    "Data[Data.SellQty == 0].Category.unique().shape"
   ]
  },
  {
   "cell_type": "code",
   "execution_count": 144,
   "metadata": {},
   "outputs": [
    {
     "data": {
      "text/html": [
       "<div>\n",
       "<style scoped>\n",
       "    .dataframe tbody tr th:only-of-type {\n",
       "        vertical-align: middle;\n",
       "    }\n",
       "\n",
       "    .dataframe tbody tr th {\n",
       "        vertical-align: top;\n",
       "    }\n",
       "\n",
       "    .dataframe thead th {\n",
       "        text-align: right;\n",
       "    }\n",
       "</style>\n",
       "<table border=\"1\" class=\"dataframe\">\n",
       "  <thead>\n",
       "    <tr style=\"text-align: right;\">\n",
       "      <th></th>\n",
       "      <th>TransNo</th>\n",
       "      <th>TransLine</th>\n",
       "      <th>CustomerNo</th>\n",
       "      <th>Category</th>\n",
       "      <th>SubCategory</th>\n",
       "      <th>TransactionDate</th>\n",
       "      <th>SellPrice</th>\n",
       "      <th>SellQty</th>\n",
       "      <th>COGS</th>\n",
       "      <th>Part</th>\n",
       "      <th>Profit</th>\n",
       "    </tr>\n",
       "  </thead>\n",
       "  <tbody>\n",
       "    <tr>\n",
       "      <td>0</td>\n",
       "      <td>4515542</td>\n",
       "      <td>4</td>\n",
       "      <td>80000</td>\n",
       "      <td>CAT3002</td>\n",
       "      <td>430</td>\n",
       "      <td>2015-01-02</td>\n",
       "      <td>25.01</td>\n",
       "      <td>0.0</td>\n",
       "      <td>19.899</td>\n",
       "      <td>P140PA780</td>\n",
       "      <td>0.000</td>\n",
       "    </tr>\n",
       "    <tr>\n",
       "      <td>1</td>\n",
       "      <td>4516499</td>\n",
       "      <td>3</td>\n",
       "      <td>80000</td>\n",
       "      <td>CAT3002</td>\n",
       "      <td>430</td>\n",
       "      <td>2015-01-05</td>\n",
       "      <td>25.01</td>\n",
       "      <td>1.0</td>\n",
       "      <td>20.295</td>\n",
       "      <td>P140PA780</td>\n",
       "      <td>4.715</td>\n",
       "    </tr>\n",
       "    <tr>\n",
       "      <td>2</td>\n",
       "      <td>4516508</td>\n",
       "      <td>3</td>\n",
       "      <td>80000</td>\n",
       "      <td>CAT3002</td>\n",
       "      <td>430</td>\n",
       "      <td>2015-01-05</td>\n",
       "      <td>25.01</td>\n",
       "      <td>1.0</td>\n",
       "      <td>20.295</td>\n",
       "      <td>P140PA780</td>\n",
       "      <td>4.715</td>\n",
       "    </tr>\n",
       "    <tr>\n",
       "      <td>3</td>\n",
       "      <td>4516509</td>\n",
       "      <td>4</td>\n",
       "      <td>80000</td>\n",
       "      <td>CAT3002</td>\n",
       "      <td>430</td>\n",
       "      <td>2015-01-05</td>\n",
       "      <td>25.01</td>\n",
       "      <td>1.0</td>\n",
       "      <td>20.295</td>\n",
       "      <td>P140PA780</td>\n",
       "      <td>4.715</td>\n",
       "    </tr>\n",
       "    <tr>\n",
       "      <td>4</td>\n",
       "      <td>4517969</td>\n",
       "      <td>10</td>\n",
       "      <td>32965</td>\n",
       "      <td>CAT3002</td>\n",
       "      <td>430</td>\n",
       "      <td>2015-01-06</td>\n",
       "      <td>23.28</td>\n",
       "      <td>2.0</td>\n",
       "      <td>19.899</td>\n",
       "      <td>P140PA780</td>\n",
       "      <td>6.762</td>\n",
       "    </tr>\n",
       "    <tr>\n",
       "      <td>...</td>\n",
       "      <td>...</td>\n",
       "      <td>...</td>\n",
       "      <td>...</td>\n",
       "      <td>...</td>\n",
       "      <td>...</td>\n",
       "      <td>...</td>\n",
       "      <td>...</td>\n",
       "      <td>...</td>\n",
       "      <td>...</td>\n",
       "      <td>...</td>\n",
       "      <td>...</td>\n",
       "    </tr>\n",
       "    <tr>\n",
       "      <td>2200909</td>\n",
       "      <td>5241866</td>\n",
       "      <td>1</td>\n",
       "      <td>22057</td>\n",
       "      <td>CAT1005</td>\n",
       "      <td>606</td>\n",
       "      <td>2017-05-10</td>\n",
       "      <td>1150.00</td>\n",
       "      <td>1.0</td>\n",
       "      <td>659.980</td>\n",
       "      <td>P555PA41082</td>\n",
       "      <td>490.020</td>\n",
       "    </tr>\n",
       "    <tr>\n",
       "      <td>2200991</td>\n",
       "      <td>5266287</td>\n",
       "      <td>1</td>\n",
       "      <td>22057</td>\n",
       "      <td>CAT1005</td>\n",
       "      <td>606</td>\n",
       "      <td>2017-06-06</td>\n",
       "      <td>800.00</td>\n",
       "      <td>0.0</td>\n",
       "      <td>650.000</td>\n",
       "      <td>P555PA41142</td>\n",
       "      <td>0.000</td>\n",
       "    </tr>\n",
       "    <tr>\n",
       "      <td>2200992</td>\n",
       "      <td>5267814</td>\n",
       "      <td>1</td>\n",
       "      <td>22057</td>\n",
       "      <td>CAT1005</td>\n",
       "      <td>606</td>\n",
       "      <td>2017-06-07</td>\n",
       "      <td>800.00</td>\n",
       "      <td>1.0</td>\n",
       "      <td>650.000</td>\n",
       "      <td>P555PA41142</td>\n",
       "      <td>150.000</td>\n",
       "    </tr>\n",
       "    <tr>\n",
       "      <td>2201089</td>\n",
       "      <td>5209592</td>\n",
       "      <td>2</td>\n",
       "      <td>25570</td>\n",
       "      <td>CAT1005</td>\n",
       "      <td>606</td>\n",
       "      <td>2017-04-07</td>\n",
       "      <td>87.09</td>\n",
       "      <td>0.0</td>\n",
       "      <td>87.090</td>\n",
       "      <td>P555PA41222</td>\n",
       "      <td>0.000</td>\n",
       "    </tr>\n",
       "    <tr>\n",
       "      <td>2201090</td>\n",
       "      <td>5209649</td>\n",
       "      <td>2</td>\n",
       "      <td>25570</td>\n",
       "      <td>CAT1005</td>\n",
       "      <td>606</td>\n",
       "      <td>2017-04-07</td>\n",
       "      <td>104.00</td>\n",
       "      <td>1.0</td>\n",
       "      <td>87.090</td>\n",
       "      <td>P555PA41222</td>\n",
       "      <td>16.910</td>\n",
       "    </tr>\n",
       "  </tbody>\n",
       "</table>\n",
       "<p>2025400 rows × 11 columns</p>\n",
       "</div>"
      ],
      "text/plain": [
       "         TransNo  TransLine CustomerNo Category SubCategory TransactionDate  \\\n",
       "0        4515542          4      80000  CAT3002         430      2015-01-02   \n",
       "1        4516499          3      80000  CAT3002         430      2015-01-05   \n",
       "2        4516508          3      80000  CAT3002         430      2015-01-05   \n",
       "3        4516509          4      80000  CAT3002         430      2015-01-05   \n",
       "4        4517969         10      32965  CAT3002         430      2015-01-06   \n",
       "...          ...        ...        ...      ...         ...             ...   \n",
       "2200909  5241866          1      22057  CAT1005         606      2017-05-10   \n",
       "2200991  5266287          1      22057  CAT1005         606      2017-06-06   \n",
       "2200992  5267814          1      22057  CAT1005         606      2017-06-07   \n",
       "2201089  5209592          2      25570  CAT1005         606      2017-04-07   \n",
       "2201090  5209649          2      25570  CAT1005         606      2017-04-07   \n",
       "\n",
       "         SellPrice  SellQty     COGS         Part   Profit  \n",
       "0            25.01      0.0   19.899    P140PA780    0.000  \n",
       "1            25.01      1.0   20.295    P140PA780    4.715  \n",
       "2            25.01      1.0   20.295    P140PA780    4.715  \n",
       "3            25.01      1.0   20.295    P140PA780    4.715  \n",
       "4            23.28      2.0   19.899    P140PA780    6.762  \n",
       "...            ...      ...      ...          ...      ...  \n",
       "2200909    1150.00      1.0  659.980  P555PA41082  490.020  \n",
       "2200991     800.00      0.0  650.000  P555PA41142    0.000  \n",
       "2200992     800.00      1.0  650.000  P555PA41142  150.000  \n",
       "2201089      87.09      0.0   87.090  P555PA41222    0.000  \n",
       "2201090     104.00      1.0   87.090  P555PA41222   16.910  \n",
       "\n",
       "[2025400 rows x 11 columns]"
      ]
     },
     "execution_count": 144,
     "metadata": {},
     "output_type": "execute_result"
    }
   ],
   "source": [
    "Data[(Data['Part'].isin(Data[Data.SellQty == 0].Part))& (Data['CustomerNo'].isin(Data[Data.SellQty == 0].CustomerNo))]"
   ]
  },
  {
   "cell_type": "code",
   "execution_count": 121,
   "metadata": {
    "scrolled": true
   },
   "outputs": [
    {
     "data": {
      "text/plain": [
       "-681.0"
      ]
     },
     "execution_count": 121,
     "metadata": {},
     "output_type": "execute_result"
    }
   ],
   "source": [
    "Data[(Data.CustomerNo == '33253')&(Data.Part == 'P915PA17332')]['SellQty'].sum()#.sort_values('TransactionDate')"
   ]
  },
  {
   "cell_type": "code",
   "execution_count": 115,
   "metadata": {},
   "outputs": [
    {
     "data": {
      "text/html": [
       "<div>\n",
       "<style scoped>\n",
       "    .dataframe tbody tr th:only-of-type {\n",
       "        vertical-align: middle;\n",
       "    }\n",
       "\n",
       "    .dataframe tbody tr th {\n",
       "        vertical-align: top;\n",
       "    }\n",
       "\n",
       "    .dataframe thead th {\n",
       "        text-align: right;\n",
       "    }\n",
       "</style>\n",
       "<table border=\"1\" class=\"dataframe\">\n",
       "  <thead>\n",
       "    <tr style=\"text-align: right;\">\n",
       "      <th></th>\n",
       "      <th>TransNo</th>\n",
       "      <th>TransLine</th>\n",
       "      <th>CustomerNo</th>\n",
       "      <th>Category</th>\n",
       "      <th>SubCategory</th>\n",
       "      <th>TransactionDate</th>\n",
       "      <th>SellPrice</th>\n",
       "      <th>SellQty</th>\n",
       "      <th>COGS</th>\n",
       "      <th>Part</th>\n",
       "      <th>Profit</th>\n",
       "    </tr>\n",
       "  </thead>\n",
       "  <tbody>\n",
       "    <tr>\n",
       "      <td>1039281</td>\n",
       "      <td>4517014</td>\n",
       "      <td>2</td>\n",
       "      <td>56432</td>\n",
       "      <td>CAT3003</td>\n",
       "      <td>533</td>\n",
       "      <td>2015-01-05</td>\n",
       "      <td>25.0</td>\n",
       "      <td>33.0</td>\n",
       "      <td>12.5</td>\n",
       "      <td>P915PA17332</td>\n",
       "      <td>412.5</td>\n",
       "    </tr>\n",
       "    <tr>\n",
       "      <td>1039282</td>\n",
       "      <td>4517945</td>\n",
       "      <td>2</td>\n",
       "      <td>56432</td>\n",
       "      <td>CAT3003</td>\n",
       "      <td>533</td>\n",
       "      <td>2015-01-06</td>\n",
       "      <td>25.0</td>\n",
       "      <td>50.0</td>\n",
       "      <td>12.5</td>\n",
       "      <td>P915PA17332</td>\n",
       "      <td>625.0</td>\n",
       "    </tr>\n",
       "    <tr>\n",
       "      <td>1039283</td>\n",
       "      <td>4516577</td>\n",
       "      <td>5</td>\n",
       "      <td>55178</td>\n",
       "      <td>CAT3003</td>\n",
       "      <td>533</td>\n",
       "      <td>2015-01-05</td>\n",
       "      <td>25.0</td>\n",
       "      <td>-100.0</td>\n",
       "      <td>12.5</td>\n",
       "      <td>P915PA17332</td>\n",
       "      <td>-1250.0</td>\n",
       "    </tr>\n",
       "    <tr>\n",
       "      <td>1039284</td>\n",
       "      <td>4520322</td>\n",
       "      <td>6</td>\n",
       "      <td>56432</td>\n",
       "      <td>CAT3003</td>\n",
       "      <td>533</td>\n",
       "      <td>2015-01-08</td>\n",
       "      <td>25.0</td>\n",
       "      <td>46.0</td>\n",
       "      <td>12.5</td>\n",
       "      <td>P915PA17332</td>\n",
       "      <td>575.0</td>\n",
       "    </tr>\n",
       "    <tr>\n",
       "      <td>1039285</td>\n",
       "      <td>4520308</td>\n",
       "      <td>6</td>\n",
       "      <td>56432</td>\n",
       "      <td>CAT3003</td>\n",
       "      <td>533</td>\n",
       "      <td>2015-01-08</td>\n",
       "      <td>25.0</td>\n",
       "      <td>58.0</td>\n",
       "      <td>12.5</td>\n",
       "      <td>P915PA17332</td>\n",
       "      <td>725.0</td>\n",
       "    </tr>\n",
       "    <tr>\n",
       "      <td>...</td>\n",
       "      <td>...</td>\n",
       "      <td>...</td>\n",
       "      <td>...</td>\n",
       "      <td>...</td>\n",
       "      <td>...</td>\n",
       "      <td>...</td>\n",
       "      <td>...</td>\n",
       "      <td>...</td>\n",
       "      <td>...</td>\n",
       "      <td>...</td>\n",
       "      <td>...</td>\n",
       "    </tr>\n",
       "    <tr>\n",
       "      <td>1041210</td>\n",
       "      <td>5392366</td>\n",
       "      <td>1</td>\n",
       "      <td>43755</td>\n",
       "      <td>CAT3003</td>\n",
       "      <td>533</td>\n",
       "      <td>2017-10-13</td>\n",
       "      <td>12.5</td>\n",
       "      <td>-250.0</td>\n",
       "      <td>12.5</td>\n",
       "      <td>P915PA17332</td>\n",
       "      <td>-0.0</td>\n",
       "    </tr>\n",
       "    <tr>\n",
       "      <td>1041211</td>\n",
       "      <td>5393417</td>\n",
       "      <td>15</td>\n",
       "      <td>33253</td>\n",
       "      <td>CAT3003</td>\n",
       "      <td>533</td>\n",
       "      <td>2017-10-16</td>\n",
       "      <td>25.0</td>\n",
       "      <td>-4.0</td>\n",
       "      <td>12.5</td>\n",
       "      <td>P915PA17332</td>\n",
       "      <td>-50.0</td>\n",
       "    </tr>\n",
       "    <tr>\n",
       "      <td>1041212</td>\n",
       "      <td>5393417</td>\n",
       "      <td>10</td>\n",
       "      <td>33253</td>\n",
       "      <td>CAT3003</td>\n",
       "      <td>533</td>\n",
       "      <td>2017-10-16</td>\n",
       "      <td>25.0</td>\n",
       "      <td>-5.0</td>\n",
       "      <td>12.5</td>\n",
       "      <td>P915PA17332</td>\n",
       "      <td>-62.5</td>\n",
       "    </tr>\n",
       "    <tr>\n",
       "      <td>1041213</td>\n",
       "      <td>5352343</td>\n",
       "      <td>2</td>\n",
       "      <td>43755</td>\n",
       "      <td>CAT3003</td>\n",
       "      <td>533</td>\n",
       "      <td>2017-09-05</td>\n",
       "      <td>12.5</td>\n",
       "      <td>0.0</td>\n",
       "      <td>12.5</td>\n",
       "      <td>P915PA17332</td>\n",
       "      <td>0.0</td>\n",
       "    </tr>\n",
       "    <tr>\n",
       "      <td>1041214</td>\n",
       "      <td>5393417</td>\n",
       "      <td>25</td>\n",
       "      <td>33253</td>\n",
       "      <td>CAT3003</td>\n",
       "      <td>533</td>\n",
       "      <td>2017-10-16</td>\n",
       "      <td>25.0</td>\n",
       "      <td>-2.0</td>\n",
       "      <td>12.5</td>\n",
       "      <td>P915PA17332</td>\n",
       "      <td>-25.0</td>\n",
       "    </tr>\n",
       "  </tbody>\n",
       "</table>\n",
       "<p>1934 rows × 11 columns</p>\n",
       "</div>"
      ],
      "text/plain": [
       "         TransNo  TransLine CustomerNo Category SubCategory TransactionDate  \\\n",
       "1039281  4517014          2      56432  CAT3003         533      2015-01-05   \n",
       "1039282  4517945          2      56432  CAT3003         533      2015-01-06   \n",
       "1039283  4516577          5      55178  CAT3003         533      2015-01-05   \n",
       "1039284  4520322          6      56432  CAT3003         533      2015-01-08   \n",
       "1039285  4520308          6      56432  CAT3003         533      2015-01-08   \n",
       "...          ...        ...        ...      ...         ...             ...   \n",
       "1041210  5392366          1      43755  CAT3003         533      2017-10-13   \n",
       "1041211  5393417         15      33253  CAT3003         533      2017-10-16   \n",
       "1041212  5393417         10      33253  CAT3003         533      2017-10-16   \n",
       "1041213  5352343          2      43755  CAT3003         533      2017-09-05   \n",
       "1041214  5393417         25      33253  CAT3003         533      2017-10-16   \n",
       "\n",
       "         SellPrice  SellQty  COGS         Part  Profit  \n",
       "1039281       25.0     33.0  12.5  P915PA17332   412.5  \n",
       "1039282       25.0     50.0  12.5  P915PA17332   625.0  \n",
       "1039283       25.0   -100.0  12.5  P915PA17332 -1250.0  \n",
       "1039284       25.0     46.0  12.5  P915PA17332   575.0  \n",
       "1039285       25.0     58.0  12.5  P915PA17332   725.0  \n",
       "...            ...      ...   ...          ...     ...  \n",
       "1041210       12.5   -250.0  12.5  P915PA17332    -0.0  \n",
       "1041211       25.0     -4.0  12.5  P915PA17332   -50.0  \n",
       "1041212       25.0     -5.0  12.5  P915PA17332   -62.5  \n",
       "1041213       12.5      0.0  12.5  P915PA17332     0.0  \n",
       "1041214       25.0     -2.0  12.5  P915PA17332   -25.0  \n",
       "\n",
       "[1934 rows x 11 columns]"
      ]
     },
     "execution_count": 115,
     "metadata": {},
     "output_type": "execute_result"
    }
   ],
   "source": [
    "Data[Data.Part == 'P915PA17332']"
   ]
  }
 ],
 "metadata": {
  "kernelspec": {
   "display_name": "Python 3",
   "language": "python",
   "name": "python3"
  },
  "language_info": {
   "codemirror_mode": {
    "name": "ipython",
    "version": 3
   },
   "file_extension": ".py",
   "mimetype": "text/x-python",
   "name": "python",
   "nbconvert_exporter": "python",
   "pygments_lexer": "ipython3",
   "version": "3.6.4"
  }
 },
 "nbformat": 4,
 "nbformat_minor": 2
}
